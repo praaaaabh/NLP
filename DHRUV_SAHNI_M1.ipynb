{
 "cells": [
  {
   "cell_type": "code",
   "execution_count": 2,
   "id": "5318f97f",
   "metadata": {},
   "outputs": [
    {
     "name": "stderr",
     "output_type": "stream",
     "text": [
      "[nltk_data] Downloading package omw-1.4 to\n",
      "[nltk_data]     C:\\Users\\dhruv\\AppData\\Roaming\\nltk_data...\n",
      "[nltk_data]   Package omw-1.4 is already up-to-date!\n",
      "[nltk_data] Downloading package punkt to\n",
      "[nltk_data]     C:\\Users\\dhruv\\AppData\\Roaming\\nltk_data...\n",
      "[nltk_data]   Package punkt is already up-to-date!\n",
      "[nltk_data] Downloading package stopwords to\n",
      "[nltk_data]     C:\\Users\\dhruv\\AppData\\Roaming\\nltk_data...\n",
      "[nltk_data]   Package stopwords is already up-to-date!\n"
     ]
    }
   ],
   "source": [
    "import shutup; shutup.please()\n",
    "import pandas as pd\n",
    "import numpy as np\n",
    "import matplotlib.pyplot as plt\n",
    "import seaborn as sns\n",
    "sns.set_style(\"darkgrid\", {\"grid.color\": \".6\", \"grid.linestyle\": \":\"})\n",
    "import os\n",
    "import missingno as msno\n",
    "from pandas.plotting import table\n",
    "from matplotlib.pyplot import figure\n",
    "import re\n",
    "from nltk.tokenize import word_tokenize\n",
    "import nltk\n",
    "from nltk.stem import WordNetLemmatizer\n",
    "from nltk.corpus import stopwords\n",
    "nltk.download('omw-1.4')\n",
    "nltk.download('punkt')\n",
    "nltk.download('stopwords')\n",
    "from sklearn.model_selection import train_test_split\n",
    "from sklearn.naive_bayes import MultinomialNB\n",
    "from sklearn.pipeline import Pipeline\n",
    "from sklearn.feature_extraction.text import TfidfTransformer\n",
    "from sklearn.feature_extraction.text import CountVectorizer, TfidfVectorizer\n",
    "from sklearn.metrics import classification_report,accuracy_score\n",
    "from sklearn import metrics\n",
    "from sklearn.linear_model import LogisticRegression\n",
    "from sklearn.linear_model import SGDClassifier\n",
    "from sklearn.tree import DecisionTreeClassifier\n",
    "from sklearn.ensemble import RandomForestClassifier\n",
    "from sklearn.neural_network import MLPClassifier\n",
    "from sklearn.ensemble import GradientBoostingClassifier"
   ]
  },
  {
   "cell_type": "code",
   "execution_count": 3,
   "id": "42983727",
   "metadata": {},
   "outputs": [
    {
     "data": {
      "text/html": [
       "<div>\n",
       "<style scoped>\n",
       "    .dataframe tbody tr th:only-of-type {\n",
       "        vertical-align: middle;\n",
       "    }\n",
       "\n",
       "    .dataframe tbody tr th {\n",
       "        vertical-align: top;\n",
       "    }\n",
       "\n",
       "    .dataframe thead th {\n",
       "        text-align: right;\n",
       "    }\n",
       "</style>\n",
       "<table border=\"1\" class=\"dataframe\">\n",
       "  <thead>\n",
       "    <tr style=\"text-align: right;\">\n",
       "      <th></th>\n",
       "      <th>review</th>\n",
       "      <th>sentiment</th>\n",
       "    </tr>\n",
       "  </thead>\n",
       "  <tbody>\n",
       "    <tr>\n",
       "      <th>0</th>\n",
       "      <td>One of the other reviewers has mentioned that ...</td>\n",
       "      <td>positive</td>\n",
       "    </tr>\n",
       "    <tr>\n",
       "      <th>1</th>\n",
       "      <td>A wonderful little production. &lt;br /&gt;&lt;br /&gt;The...</td>\n",
       "      <td>positive</td>\n",
       "    </tr>\n",
       "    <tr>\n",
       "      <th>2</th>\n",
       "      <td>I thought this was a wonderful way to spend ti...</td>\n",
       "      <td>positive</td>\n",
       "    </tr>\n",
       "    <tr>\n",
       "      <th>3</th>\n",
       "      <td>Basically there's a family where a little boy ...</td>\n",
       "      <td>negative</td>\n",
       "    </tr>\n",
       "    <tr>\n",
       "      <th>4</th>\n",
       "      <td>Petter Mattei's \"Love in the Time of Money\" is...</td>\n",
       "      <td>positive</td>\n",
       "    </tr>\n",
       "  </tbody>\n",
       "</table>\n",
       "</div>"
      ],
      "text/plain": [
       "                                              review sentiment\n",
       "0  One of the other reviewers has mentioned that ...  positive\n",
       "1  A wonderful little production. <br /><br />The...  positive\n",
       "2  I thought this was a wonderful way to spend ti...  positive\n",
       "3  Basically there's a family where a little boy ...  negative\n",
       "4  Petter Mattei's \"Love in the Time of Money\" is...  positive"
      ]
     },
     "execution_count": 3,
     "metadata": {},
     "output_type": "execute_result"
    }
   ],
   "source": [
    "df = pd.read_csv('IMDB Dataset.csv')\n",
    "df.head()"
   ]
  },
  {
   "cell_type": "code",
   "execution_count": 4,
   "id": "2fa0dee3",
   "metadata": {},
   "outputs": [
    {
     "name": "stdout",
     "output_type": "stream",
     "text": [
      "<class 'pandas.core.frame.DataFrame'>\n",
      "RangeIndex: 50000 entries, 0 to 49999\n",
      "Data columns (total 2 columns):\n",
      " #   Column     Non-Null Count  Dtype \n",
      "---  ------     --------------  ----- \n",
      " 0   review     50000 non-null  object\n",
      " 1   sentiment  50000 non-null  object\n",
      "dtypes: object(2)\n",
      "memory usage: 781.4+ KB\n"
     ]
    }
   ],
   "source": [
    "df.info()"
   ]
  },
  {
   "cell_type": "code",
   "execution_count": 5,
   "id": "9c833346",
   "metadata": {},
   "outputs": [
    {
     "data": {
      "text/plain": [
       "(50000, 2)"
      ]
     },
     "execution_count": 5,
     "metadata": {},
     "output_type": "execute_result"
    }
   ],
   "source": [
    "df.shape"
   ]
  },
  {
   "cell_type": "code",
   "execution_count": 6,
   "id": "0c034f44",
   "metadata": {},
   "outputs": [
    {
     "data": {
      "text/plain": [
       "review       0\n",
       "sentiment    0\n",
       "dtype: int64"
      ]
     },
     "execution_count": 6,
     "metadata": {},
     "output_type": "execute_result"
    }
   ],
   "source": [
    "df.isna().sum()"
   ]
  },
  {
   "cell_type": "code",
   "execution_count": 7,
   "id": "d1187e56",
   "metadata": {},
   "outputs": [],
   "source": [
    "df1=df.sample(10000)"
   ]
  },
  {
   "cell_type": "code",
   "execution_count": 8,
   "id": "62b1fc24",
   "metadata": {},
   "outputs": [
    {
     "data": {
      "text/html": [
       "<div>\n",
       "<style scoped>\n",
       "    .dataframe tbody tr th:only-of-type {\n",
       "        vertical-align: middle;\n",
       "    }\n",
       "\n",
       "    .dataframe tbody tr th {\n",
       "        vertical-align: top;\n",
       "    }\n",
       "\n",
       "    .dataframe thead th {\n",
       "        text-align: right;\n",
       "    }\n",
       "</style>\n",
       "<table border=\"1\" class=\"dataframe\">\n",
       "  <thead>\n",
       "    <tr style=\"text-align: right;\">\n",
       "      <th></th>\n",
       "      <th>review</th>\n",
       "      <th>sentiment</th>\n",
       "    </tr>\n",
       "  </thead>\n",
       "  <tbody>\n",
       "    <tr>\n",
       "      <th>10835</th>\n",
       "      <td>i really did not watch this show as often when...</td>\n",
       "      <td>positive</td>\n",
       "    </tr>\n",
       "    <tr>\n",
       "      <th>45390</th>\n",
       "      <td>&gt;&gt;&gt;&gt;Author: msgreen-1 from Canada &gt;&gt;&gt;&gt;The big ...</td>\n",
       "      <td>positive</td>\n",
       "    </tr>\n",
       "    <tr>\n",
       "      <th>49338</th>\n",
       "      <td>What's to like about this movie???&lt;br /&gt;&lt;br /&gt;...</td>\n",
       "      <td>negative</td>\n",
       "    </tr>\n",
       "    <tr>\n",
       "      <th>21101</th>\n",
       "      <td>The opening scenes move as fluidly as frozen v...</td>\n",
       "      <td>negative</td>\n",
       "    </tr>\n",
       "    <tr>\n",
       "      <th>46652</th>\n",
       "      <td>Anastasia: The Mystery of Anna was a two-part ...</td>\n",
       "      <td>positive</td>\n",
       "    </tr>\n",
       "    <tr>\n",
       "      <th>...</th>\n",
       "      <td>...</td>\n",
       "      <td>...</td>\n",
       "    </tr>\n",
       "    <tr>\n",
       "      <th>32771</th>\n",
       "      <td>Black and White film. Good photography. Believ...</td>\n",
       "      <td>negative</td>\n",
       "    </tr>\n",
       "    <tr>\n",
       "      <th>222</th>\n",
       "      <td>Howard (Kevin Kline) teaches English at the hi...</td>\n",
       "      <td>positive</td>\n",
       "    </tr>\n",
       "    <tr>\n",
       "      <th>12102</th>\n",
       "      <td>This was a romantic, simple funny movie. I rea...</td>\n",
       "      <td>positive</td>\n",
       "    </tr>\n",
       "    <tr>\n",
       "      <th>12890</th>\n",
       "      <td>This movie is so daring it doesn't attempt to ...</td>\n",
       "      <td>negative</td>\n",
       "    </tr>\n",
       "    <tr>\n",
       "      <th>1609</th>\n",
       "      <td>I have seen The Running Man several times as I...</td>\n",
       "      <td>positive</td>\n",
       "    </tr>\n",
       "  </tbody>\n",
       "</table>\n",
       "<p>10000 rows × 2 columns</p>\n",
       "</div>"
      ],
      "text/plain": [
       "                                                  review sentiment\n",
       "10835  i really did not watch this show as often when...  positive\n",
       "45390  >>>>Author: msgreen-1 from Canada >>>>The big ...  positive\n",
       "49338  What's to like about this movie???<br /><br />...  negative\n",
       "21101  The opening scenes move as fluidly as frozen v...  negative\n",
       "46652  Anastasia: The Mystery of Anna was a two-part ...  positive\n",
       "...                                                  ...       ...\n",
       "32771  Black and White film. Good photography. Believ...  negative\n",
       "222    Howard (Kevin Kline) teaches English at the hi...  positive\n",
       "12102  This was a romantic, simple funny movie. I rea...  positive\n",
       "12890  This movie is so daring it doesn't attempt to ...  negative\n",
       "1609   I have seen The Running Man several times as I...  positive\n",
       "\n",
       "[10000 rows x 2 columns]"
      ]
     },
     "execution_count": 8,
     "metadata": {},
     "output_type": "execute_result"
    }
   ],
   "source": [
    "df1"
   ]
  },
  {
   "cell_type": "code",
   "execution_count": 9,
   "id": "d1c20838",
   "metadata": {},
   "outputs": [
    {
     "data": {
      "text/plain": [
       "(10000, 2)"
      ]
     },
     "execution_count": 9,
     "metadata": {},
     "output_type": "execute_result"
    }
   ],
   "source": [
    "df1.shape"
   ]
  },
  {
   "cell_type": "code",
   "execution_count": 10,
   "id": "470bbf72",
   "metadata": {},
   "outputs": [
    {
     "name": "stdout",
     "output_type": "stream",
     "text": [
      "review\n",
      "!!! Spoiler alert!!!<br /><br />The point is, though, that I didn't think this film had an ending TO spoil... I only started watching it in the middle, after Matt had gotten into Sarah's body, but then I became fascinated by the bizarreness of the plot, even for a Channel 5 movie... and couldn't possibly see how Matt wld end up happy. What about his fiancee? At one stage looked like he was gonna get with his best friend, surely icky and wrong... and then the whole 'oggi oggi oggi' thing does NOT WORK as a touching buddy-buddy catchphrase, tis just ridiculous... so was going 'surely he can't just come back to life? and yet how can he live as a woman?' and then the film just got over that by ending and not explaining anything at all!!!!! What's that about??? I was so cross, wasted a whole hour of my life for no reason at all!!! :) but was one of the funniest films I've ever seen, so, swings and roundabouts                                                                                                                                                                                                                                                                                                                                                                                                                                                                                                                                                                                                                                                                                                                                                                                                                                                                                                                                                                                                                                                                                                                                                                                                                                                                                                                                                                                                                                                                                                                                                                                                                                                                                                                                                                                                                                                                                                                                                                                                                                                                                                                                                                                                                                                                                                                                                                                                                                                                                                                                                                                                                                                                                                                                                                                                                                                                                                                                                                                                                                                                                                                                                                                                                                  1\n",
      "\" Now in India's sunny 'clime, where I use to spend my time as a soldier in the service of her Majesty the queen . . . \" so goes the famous poem penned by Rudyard Kipling. This is the literal foundation upon which the movie \"Gunga Din\" is based. If you are fortunate enough to watch this legendary Classic, you will enjoy films the way they use to make them; for the sheer pleasure. Taken from the script of the established novelist and poet, this is a story of a humble Indian native named Gunga Din (Sam Jaffe) who works as 'a regimental beasty' during the British occupation of India during the 18th century. His greatest wish is to become a soldier. The water boy is part of a British Calvary contingent threatened with death by a notorious blood cult of Kali called the 'Thuggee.' Three particular soldiers stand out in this company who are noted for their bravery and comradeship. First is handsome and debonair, Cary Grant playing Sgt. Archibald Cutter. Next is Victor McLaglen as courageous Sgt. MacChesney and finally there's flamboyant Douglas Fairbanks Jr. as Sgt. Thomas Ballantine. All three and their fellow soldiers are surrounded by a hoard of mountain stranglers led by their fanatical leader called the 'Guru' (Eduardo Ciannelli). Amid the Chaos of war, is the brave water-boy who hopes to earn a place in the army by playing a bugle he found. A solid story for an old black and white film which needs little fanfare for anyone looking to enjoy a classic. ****                                                                                                                                                                                                                                                                                                                                                                                                                                                                                                                                                                                                                                                                                                                                                                                                                                                                                                                                                                                                                                                                                                                                                                                                                                                                                                                                                                                                                                                                                                                                                                                                                                                                                                                                                                                                                                                                                                                                                                                                                                                                                                                                                                                                                                                                                                                                                                                                                                                                                                                                                                                                                                                 1\n",
      "\"9/11,\" hosted by Robert DeNiro, presents footage from outside and inside the Twin Towers in New York, on September 11, 2001.<br /><br />Never too grisly and gory, yet powerful and moving. \"9/11\" is a real treat. Anyone not moved by this television show is immune to anything.<br /><br />5/5 stars --<br /><br />                                                                                                                                                                                                                                                                                                                                                                                                                                                                                                                                                                                                                                                                                                                                                                                                                                                                                                                                                                                                                                                                                                                                                                                                                                                                                                                                                                                                                                                                                                                                                                                                                                                                                                                                                                                                                                                                                                                                                                                                                                                                                                                                                                                                                                                                                                                                                                                                                                                                                                                                                                                                                                                                                                                                                                                                                                                                                                                                                                                                                                                                                                                                                                                                                                                                                                                                                                                                                                                                                                                                                                                                                                                                                                                                                                                                                                                               1\n",
      "\"A Bug's Life\" is like a favorite candy bar -- it's chock-full of great little bits that add up to something really tasty.<br /><br />The story couldn't have been better; it's clever, has \"heart\" (emotion), and every character has a nice \"arc\" (a growth or change). By comparison, the only characters in \"Toy Story\" to have an \"arc\" are Buzz, who learns to love being a toy, and Woody, who overcomes his resentment of Buzz. There are tons of laughs and cute moments in \"A Bug's Life\". All of the actors turn in great voice work, and the animation, both the motion and detail, is superb.<br /><br />This serious movie buff doesn't throw around \"10\"s lightly, but this movie certainly deserves the \"10\" I gave it.                                                                                                                                                                                                                                                                                                                                                                                                                                                                                                                                                                                                                                                                                                                                                                                                                                                                                                                                                                                                                                                                                                                                                                                                                                                                                                                                                                                                                                                                                                                                                                                                                                                                                                                                                                                                                                                                                                                                                                                                                                                                                                                                                                                                                                                                                                                                                                                                                                                                                                                                                                                                                                                                                                                                                                                                                                                                                                                                                                                                                                                                                                                                                                                                                                                                                                                                                                                                                                                1\n",
      "\"A Cry in the Dark\" is a masterful piece of cinema, haunting, and incredibly though provoking. The true story of Lindy Chamberland, who, in 1980, witnessed a horrific sight, seeing her 3-month-old baby being brutally taken from their family's tent, while camping on the Austrailian outback. Azaria (the baby) was never seen again, and the result of her horrendous disappearance caused a true life frenzy all around the world. Meryl Streep does immaculate justice to the role of Lindy, as she always does. But the one thing that helps \"A Cry in the Dark\" never fall flat is the brilliant direction. A truly inspired and accurate outlook on this baffeling case, tears are brought to the eyes. The concept is nothing less then terrifying, and afterwards you are left haunted, but also inspired.                                                                                                                                                                                                                                                                                                                                                                                                                                                                                                                                                                                                                                                                                                                                                                                                                                                                                                                                                                                                                                                                                                                                                                                                                                                                                                                                                                                                                                                                                                                                                                                                                                                                                                                                                                                                                                                                                                                                                                                                                                                                                                                                                                                                                                                                                                                                                                                                                                                                                                                                                                                                                                                                                                                                                                                                                                                                                                                                                                                                                                                                                                                                                                                                                                                                                                                                                                1\n",
      "                                                                                                                                                                                                                                                                                                                                                                                                                                                                                                                                                                                                                                                                                                                                                                                                                                                                                                                                                                                                                                                                                                                                                                                                                                                                                                                                                                                                                                                                                                                                                                                                                                                                                                                                                                                                                                                                                                                                                                                                                                                                                                                                                                                                                                                                                                                                                                                                                                                                                                                                                                                                                                                                                                                                                                                                                                                                                                                                                                                                                                                                                                                                                                                                                                                                                                                                                                                                                                                                                                                                                                                                                                                                                                                                                                                                                                                                                                                                                                                                                                                                                                                                                                                      ..\n",
      "yes i have a copy of it on VHS uncut in great condition that i transfered to DVD and if anyone one wants to bring back the memories of a Christmas classic please emil me at dmd2222@verizon.net.i searched everywhere and i found nothing on this and i thought that i cant be the only one on this planet that has this classic on tape there has to be other people and if they do i fit in with them being that very very few that has this classic so i consider myself lucky and i have all of the muppets Christmas except one that john denver did with the muppets again i thinks its called a smokey mountain holiday im not to sure but its close.                                                                                                                                                                                                                                                                                                                                                                                                                                                                                                                                                                                                                                                                                                                                                                                                                                                                                                                                                                                                                                                                                                                                                                                                                                                                                                                                                                                                                                                                                                                                                                                                                                                                                                                                                                                                                                                                                                                                                                                                                                                                                                                                                                                                                                                                                                                                                                                                                                                                                                                                                                                                                                                                                                                                                                                                                                                                                                                                                                                                                                                                                                                                                                                                                                                                                                                                                                                                                                                                                                                          1\n",
      "you have loved The shawshank Redemption, Pulp Fiction, Vertigo, Oldboy.... And i guarantee you will love this one more. its a brilliant thriller. The story is so simple yet so gripping. it keeps you at the edge of your seat till the end. the slow moving scenes, simple music adds more perfection to the movie. its so genuine. the performance is top class the direction the sequences...they are too perfect..if i could i would place it in top 10 thrillers ever made. Most entertaining thriller i have seen in a while... *****/***** my vote help me move this movie to top 250<br /><br />you will love it...                                                                                                                                                                                                                                                                                                                                                                                                                                                                                                                                                                                                                                                                                                                                                                                                                                                                                                                                                                                                                                                                                                                                                                                                                                                                                                                                                                                                                                                                                                                                                                                                                                                                                                                                                                                                                                                                                                                                                                                                                                                                                                                                                                                                                                                                                                                                                                                                                                                                                                                                                                                                                                                                                                                                                                                                                                                                                                                                                                                                                                                                                                                                                                                                                                                                                                                                                                                                                                                                                                                                                           1\n",
      "you must be seeing my comments over many films under Evren Buyruk ..I am off to make another comment over a movie that is not even worth a minute of talking though..This film is basically two hours of Dafoe's character drinking himself - nearly literally - to death. The only surprise in this film is that you didn't have enough clues or character knowledge to be surprised. It was just a grim, sad waste of time.<br /><br />Willem Dafoe is excellent actor. Peter Stormare is an excellent actor. But this film just sucked. Slow doesn't make the movie bad, it was just bad. The sketchy plot mixed with artistic ramblings of anamorphic detail aren't cohesively drawn together in a meaningful way for a plot except to highlight some gore which is illustrated from several perspectives, finally at the end. I really appreciate the artistic vision, but as entertainment, it put me to sleep. (Seriously, I fell asleep and had to re-watch the film - which was even more disappointing.) I generally don't like to make negative comments or reviews on the works of others, even when they suck, but this film warranted one. It's just too bad that these great actors were shamed with this end result.                                                                                                                                                                                                                                                                                                                                                                                                                                                                                                                                                                                                                                                                                                                                                                                                                                                                                                                                                                                                                                                                                                                                                                                                                                                                                                                                                                                                                                                                                                                                                                                                                                                                                                                                                                                                                                                                                                                                                                                                                                                                                                                                                                                                                                                                                                                                                                                                                                                                                                                                                                                                                                                                                                                                                                                                                                                                                                                                                   1\n",
      "{Possible spoilers coming up... you've been forewarned.}<br /><br />This is absolutely one of my all time favorite musicals and movie musicals! (The other is Damn Yankees with Gwen Verdon, Tab Hunter and Ray Walston) As we all know, sometimes the luster (not to mention the songs) of a show are lost in its transition from stage to screen. This is, for the most part, DEFINITELY not the case here.<br /><br />The sets are divine, bright and colorful, the characters are bigger than life and you can't help but love them, and Michael Kidd's choreography is absolutely stunning. (So glad to know they used the original Broadway choreographer)<br /><br />All of the actors \"bounce the ball\" (that is, have unbeatable chemistry) to perfection in this film. Frank and Marlon are absolutely believable as the proprietor of the oldest established permanent floating crap game in New York, and the most notorious gambler who bets on even the most minute things-- such as his fever going up to 104 if he doesn't take penicillin. Sweet, fresh faced Jean Simmons is perfect for the role of Sarah (although it is true, her singing pipes are not as outstanding as that of Isabel Bigley or Josie de Guzman)-- the mission doll with a heart of gold and a drive to heal all. And last but certainly not least (on my list anyway) is Miss Vivian Blaine, reprising her Broadway role as Miss Adelaide-- the Hot Box lead singer and dancer who would like to finally end her 14 year engagement to Nathan with marriage, and rid herself of the psychosomatic cold he's given her.<br /><br />First off, kudos to Stubby Kaye and B.S. Pulley as they reprise their Broadway roles as Nicely-Nicely Johnson and Benny Southstreet. There were never two more loveable gamblers than these guys.<br /><br />Brando is superb, as usual, and though he's not got the voice of Robert Alda or Peter Gallagher, you forget it-- as he has this sense of determination to bring all he can to his role as Sky Masterson. \"Luck Be A Lady\" gives me chills every time I see him perform the number. Especially enjoyable is hearing him say \"Daddy... I got cider in my ear.\"<br /><br />Simmons is charming and pleasant in a role well suited to her looks, voice and the way she carries herself. You long so dearly for her not only to win Sky (or, toward the end, believe him), but to help people overcome their gambling, drinking and other sins, and live a life with God. Her rendition of \"If I Were A Bell\" is splendid, to say the least!<br /><br />Sinatra is the man. He is so perfect for the role of Nathan Detroit-- and here he sings parts that Sam Levene from the Broadway cast never could (terrific actor, but the chap was tone deaf... go figure). I really enjoyed the addition of the song \"Adelaide\"... wish some guy would sing like that to ME. Frankie's cool, slick demeanor transcends the boundaries of this movie. But most importantly, you want him to marry Adelaide.<br /><br />And speaking of Adelaide, Vivian Blaine is just sheer perfection in this role. From the accent to her belting out \"Adelaide's Lament\", she's just terrific. And she's also my favorite part of the entire movie. She really makes you feel for Adelaide... especially when she cries right before and then again during \"Sue Me\". I still haven't decided whether I like \"Pet Me Poppa\" better than \"Bushel and a Peck\"... maybe I like them equally. Either way, she does fantastic with those as well as \"Take Back Your Mink.\" (I'm sad that they left out \"hollanderize\" from the film...) She's absolutely MARVELOUS, not to mention hilarious, and my favorite part of the entire film.<br /><br />One of the best things about this movie is their lingo. It's a mixture of high class and street slang. Never do they use \"It's\", \"I'll\" or \"That's.\" It's always \"It is\", \"I will\" and \"That is.\" Overall, Guys & Dolls is one of my favorite all time movies and musicals, and it's one that you should take time to watch every time it comes on. My only complaint? No \"Marry The Man Today.\" Now THAT'S a good song.    1\n",
      "    Film auteur Stephan Woloszczuk explores the depths of love, passion, and brotherhood and the devastating results of loss in his latest film BLINDSPOT.<br /><br />BLINDSPOT'S diegetic world is exploding with suspense and takes the audience on a twisting  journey to the core of the human soul.  As a director, he manages to draw the human spirit from the performances of his actors.   With superb editing, especially in the flashback scenes and beautiful cinematography, BLINDSPOT is a thought provoking suspense from beginning to end.  A thriller which leaves much to the minds' eye.<br /><br />What an  astounding accomplishment for Stephan Woloszczuk.<br /><br />  Cheers Stephan! Angela Sander                                                                                                                                                                                                                                                                                                                                                                                                                                                                                                                                                                                                                                                                                                                                                                                                                                                                                                                                                                                                                                                                                                                                                                                                                                                                                                                                                                                                                                                                                                                                                                                                                                                                                                                                                                                                                                                                                                                                                                                                                                                                                                                                                                                                                                                                                                                                                                                                                                                                                                                                                                                                                                                                                                                                                                                                                                                                                                                                                                                                                                                                                                                                                                                                                                                                                                                                                                                                                                                           1\n",
      "Length: 9986, dtype: int64\n"
     ]
    }
   ],
   "source": [
    "dups_review = df1.pivot_table(columns=['review'], aggfunc='size')\n",
    "print (dups_review)"
   ]
  },
  {
   "cell_type": "code",
   "execution_count": 15,
   "id": "c94c1713",
   "metadata": {},
   "outputs": [
    {
     "name": "stdout",
     "output_type": "stream",
     "text": [
      "Review: \n",
      "(Some spoilers included:)<br /><br />Although, many commentators have called this film surreal, the term fits poorly here. To quote from Encyclopedia Britannica's, surreal means:<br /><br />\"Fantastic or incongruous imagery\": One needn't explain to the unimaginative how many ways a plucky ten-year-old boy at large and seeking his fortune in the driver's seat of a red Mustang could be fantastic: those curious might read James Kincaid; but if you asked said lad how he were incongruous behind the wheel of a sports car, he'd surely protest, \"NO way!\" What fantasies and incongruities the film offers mostly appear within the first fifteen minutes. Thereafter we get more iterations of the same, in an ever-cruder and more squalid progression that, far from incongruous, soon proves predictable. Not that it were, on the other hand, literally believable-- but it were unfair to tax Motorama in particular with this flaw, any plausible suspension of disbelief having fallen precipitously on the typical film-maker's and viewer's scale of values ever since \"Raiders of the Lost Ark\" became a blockbuster.<br /><br />\"Hallucinatory\": How do we know what a hallucination is if part of having one is not knowing that we are having one? At any rate, some people know that they enjoy \"hallucinogenic drugs\"-- but if Motorama typifies the result of doing so, then I'm at a loss as to why anyone would take them more than once. There is, of course, the occasional bad trip. The movie must be one of those, pun and all.<br /><br />\"Juxtaposition of words that was startling\": How many times can a ten-year-old startle you by uttering \"Oh, my God!\" when he likes something, or \"Damn!\" when he doesn't? These two interjections are about par for the course with this script. Sadly, any sense of the surreal in what passes for dialogue could only reveal, in direct proportion, one's naivete regarding the speech patterns of the rising American generation.<br /><br />\"A world completely defined and minutely depicted but that makes no rational sense:\" Motorama's world indeed makes no sense, but it is about as completely defined as a cartoon in an elementary school newspaper. The numerous guest stars in the cast all have cameo roles even less intelligent than our little hero who exclaims \"Damn!\" in the blink of an eyelash but needs several seconds to concoct the lamest lie. And even *his* character, despite appearing in nearly every scene, gets no significant development. Here's scant reward for any viewer who sympathizes, as I must, enough to wish to know him better and understand 'where he's coming from.' One vaguely senses a far better story and protagonist struggling to get out.<br /><br />\"Fully recognizable, realistically painted images are removed from their normal contexts and reassembled within an ambiguous, paradoxical, or shocking framework.\" No, we see a succession of stereotypical and ever more dilapidated billboards, filling stations, greasy-spoon eateries, cheap hotels, and their lowlife habitues along country highways, exactly where they stereotypically belong.<br /><br />\"Largely responsible for perpetuating... the traditional emphasis on content.\" There is little content, moment-to-moment, in Motorama.<br /><br />To sum up: Picture British millionaires dressed as clowns or pirates on the way to a posh costume party, sitting serene and mute as cautious chauffeurs inch their Rolls-Royces like fragile skiffs through a roiling sea of desperate humanity, Chinese who implore them through the windows and smear the glass with blood. Or imagine a stadium full of abandoned antiques, limousines like those above now rusting, and white pianos tinkled by ghosts. Into this detritus wander an exhausted boy and an ailing woman to whom he clings as mother-figure becoming girl-friend, who fall asleep side by side on the grass. He is awakened-- on the Feast of the Transfiguration, \"white and glistering\" day 1945-- by a brilliant flash on the horizon that is not the rising sun. Finding that his consort has become a corpse, he first believes that he has witnessed her soul going up to heaven. Later he explains only a little less innocently, 'I learned a new word today: atom-bomb. It's like God taking a photograph.' Now, *there* are just two samples of cinematic surrealism, surrealism whose ironies ripple out far enough to invade its film's very title: Empire of the Sun. If you seek surreal, *please* don't miss it. Alas, however hard he treads on the accelerator to race his chariot through and beyond the desert, no scenes so exquisitely strange, rich, subtle, or gorgeous await Motorama's poor little Gus in his quest.<br /><br />None of the above necessarily constitutes a thumbs-down on this film. Though somewhat disappointed, I can't dismiss it, in view of the respectability of another genre that it does exemplify-- one influenced, to be sure, by surrealism, but also by expressionism, existentialism, and Franz Kafka's pessimism amidst omnipotent power structures. Let's try on for size: Theater of the Absurd.<br /><br />Turning to E.B.'s article on this style, I am amazed by how, to the extent that Theater of the Absurd is a valid artistic style, the above objections to Motorama vanish like a puff of smoke. I'm tempted to quote the entire text as support of the identification.<br /><br />Theater of the Absurd attempts to show \"that the human situation is essentially absurd, devoid of purpose... humankind is left feeling hopeless, bewildered, and anxious.\": Having instantaneously achieved his purpose of getting away from a depressing home life among bickering parents, Gus finds himself purposeless until he drives past a glittering billboard reading \"Motorama\" and decides to win the lottery that it promises. As others have already revealed, this ambition proves illusory: although the game \"never expires\", the sponsoring corporation has no intention that anyone should ever win, and has ways to trick, confuse, and leave crestfallen any aspirant to the reward. He, like others, is ultimately disappointed in his dream.<br /><br />\"Absurdist playwrights, therefore, did away with most of the logical structure of traditional theatre. There is little dramatic action as conventionally understood; however frantically the characters perform, their busyness serves to underscore the fact that nothing happens to change their existence... a timeless, circular quality emerges.\" \"Language in an absurdist play is full of... repetitions... repeating the obvious until it sounds like nonsense.\" Underneath a sometimes \"dazzling comic surface,\" we find \"an underlying message of metaphysical distress.\" Gus's obsession with a silly game, his inane language, the plot device wherein he divines a bleak future and/or returns to an earlier moment and takes a different but still bleak turn-- so much fits now. While an admirer of the surreal would do better with some films, anyway, of Spielberg, admirers of Motorama as it really is should find fellow-travelers-- not instead but addition-- in the works of Beckett, Ionesco, and Genet.<br /><br />But one can't quite stop here. After his disillusionment with the game, Gus returns to \"Phil\" (i.e., Love), the first attendant he had met and the one person who had treated him decently, although he had also scolded him-- at a service station advertising \"Be full-filled!\". Under Phil's tutelage he learns a life of waiting for cars. We might note here that the absurdist playwright Beckett had entitled his most famous play \"Waiting for Godot,\" and that for Godot we should read \"God.\" God is one of Phil's preoccupations, too. Furthermore, as the indirect result of his previous encounter with Gus, Phil is badly maimed and goes about in a cast with his arms straight out horizontally. In the last scene, Gus, now Phil's protege, says that he wants to hear music. We hear none, but we see Phil wiggling his fingers at the end of his outstretched arm, beckoning Gus closer, and Gus responds. The End.<br /><br />Finally, on to an author whom I happen to be reading currently, the Anglican theologian William Stringfellow. If this rebel-lawyer is not acknowledged as an architect or undergirder of Liberation Theology, which is more a Roman Catholic than an Anglican movement, perhaps he should be. Police brutality and corporate greed are a cliche in cinema and literature, including Motorama, but Stringfellow supports and illuminates such sentiments with impressive warrants from scripture, tradition, and reason.<br /><br />His most significant work is an expose of the earthly activities of those fallen angels whom the Bible refers to as principalities and powers. Principalities, wrote Stringfellow, are behind all of our popular three I's: Images, Institutions, and Ideologies. All of these commend themselves to our worship by making false promises. The more deeply involved with an image, an institution, or an ideology any person becomes, the more his own personhood becomes \"depleted\" and be becomes a slave to them. Promising power, control, and immortality, they inexorably deliver helplessness, chaos, and death. As essentially fallen, defeated powers, they can do no more than that. Yet they beguile humans with that \"dominion over the earth\" promised by God in the book of Genesis, while in fact no one of us controls an image, an institution, or an ideology bent inevitably on its own hegemony and self-preservation. They take on lives of their own. \"Dominion\" happens to be a mistranslation: a more accurate rendering of the Hebrew would be \"stewardship.\" But this is a quibble beside a more fundamental problem: Most of us neglect to notice that God had delegated this power to Adam *before* the fall. We have no reason to assume that we, his descendents, still exercise it now: on the contrary, it should be obvious that demonic forces have stolen it from us.<br /><br />One might add two observations of C.S. Lewis: First, that \"man's conquest of nature\" is a mere illusion, and a ruse to cover the fact that one is really talking about the conquest of some men by other men with nature as the instrument; and secondly, contrary to popular belief, Satan is no kind of good-time Charlie. He may dangle out pleasures at first, but he is very niggardly with them and will withdraw them from any human firmly in his thrall, perhaps leaving his prey sitting in front of the fire feeling miserably sorry for himself and seething with resentment.<br /><br />Now, applying these insights to Motorama, we seem them mirrored remarkably in Gus's experience. He is, if not nice, at least a pretty little boy prior to falling victim to the Motorama game. The first signs advertising it glisten glamorously. The longer he continues, however, and the deeper he journeys towards the sponsoring corporation's headquarters, the more shabby they become. He's lonely, meeting no one else who plays the game. The stations giving out the cards have either fallen into ruins or are staffed by zombies. The people he does meet along the way are more and more ugly, deceitful, and hostile. (The fact that the principalities answer to a common dictator does not mean that they can abide one another). Gus's humanity is leached out of him as he becomes not only totally self-centered and oblivious to the needs of others but partially blinded... disfigured... prematurely aged while infantile in the literal sense of linguistically challenged. Eventually even his precious Mustang is taken from him in a crash, and he must continue in a dead man's wreck. Yet at long last, having done everything he thought was expected, he presents himself to the principality in its proud tower to receive his prize. Using the biblical power to confuse wielded by those who have built such monuments to their own vanity, its agents evade him, disappoint, insult, and finally throw him from the top floor. He FALLS long and hard, landing, finally in a body of water. In other words, in classic symbolism, he DIES. He has met the inevitable bad end of anyone who has put his faith in such a deceiver.<br /><br />But this fate proves to be only a warning look into a mutable future. He repents and returns to Phil, and upon seeing him performs the very first generous, selfless act we have seen from him for almost an hour and a half: noting that Phil is now handicapped and hardly able to insert a hose into a gas tank, he asks, \"Can I help you with that?\" Then, seeing the \"help wanted\" sign, he decides to apply for the job, explaining to the motorist with whom he was hitch-hiking that he reckons he'll get out here, because it doesn't look like too bad a place to work.<br /><br />This interpretation is conjectural, of course, and it may surprise or even outrage the film's \"cult classic\" aficionados who see quite different points in it.<br /><br />If Motorama isn't quite my cup of tea, I'm at least convinced now that it's hardly the worst film ever made.\n",
      "\n",
      "Review: \n",
      "By now you've probably heard a bit about the new Disney dub of Miyazaki's classic film, Laputa: Castle In The Sky. During late summer of 1998, Disney released \"Kiki's Delivery Service\" on video which included a preview of the Laputa dub saying it was due out in \"1999\". It's obviously way past that year now, but the dub has been finally completed. And it's not \"Laputa: Castle In The Sky\", just \"Castle In The Sky\" for the dub, since Laputa is not such a nice word in Spanish (even though they use the word Laputa many times throughout the dub). You've also probably heard that world renowned composer, Joe Hisaishi, who scored the movie originally, went back to rescore the excellent music with new arrangements. Laputa came out before My Neighbor Totoro and after Nausicaa of the Valley of the Wind, which began Studio Ghibli and it's long string of hits. And in my opinion, I think it's one of Miyazaki's best films with a powerful lesson tuckered inside this two hour and four minute gem. Laputa: Castle in the Sky is a film for all ages and I urge everyone to see it.<br /><br />For those unfamiliar with Castle in the Sky's story, it begins right at the start and doesn't stop for the next two hours. The storytelling is so flawless and masterfully crafted, you see Miyazaki's true vision. And believe me, it's one fantastic one. The film begins with Sheeta, a girl with one helluva past as she is being held captive by the government on an airship. Sheeta holds the key to Laputa, the castle in the sky and a long lost civilization. The key to Laputa is a sacred pendant she has which is sought by many, namely the government, the military and the air pirate group, the Dola gang (who Sheeta and Pazu later befriend). Soon, the pirates attack the ship and she escapes during the raid. She falls a few thousand feet, but the fall is soft and thanks to her pendant. As she floats down from the sky, Pazu, an orphan boy who survives by working in the mines, sees Sheeta and catches her. The two become fast friends, but thanks to her pendant, the two get caught up in one huge thrill ride as the Dola gang and government try to capture Sheeta. One action sequence after another, we learn all of the character's motives and identities as we build to the emotional and action packed climax which will surely please all with it's fantastic animation and wonderful dialogue. Plus somewhat twisty surprise. I think this film is simply remarkable and does hold for the two hour and four minute run time. The story is wonderful, as we peak into Hayao Miyazaki's animation which has no limits. The setting of the film is a combo of many time periods. It does seem to take place at the end of the 1800s, but it is some alternante universe which has advanced technology and weapons. Laputa is also surprisingly a funny film. The film has tons of hilarious moments, almost equal to the drama and action the film holds. I think the funniest part is a fight scene where Pazu's boss faces off against a pirate, and soon after a riot breaks out. It's funny as we see the men compare their strength and the music fits right in with it perfectly.<br /><br />Now let's talk about how the dub rates. An excellent cast give some great performances to bring these characters to life. Teen heartthrob James Van Der Beek plays the hero Pazu, who has a much more mature voice then in the Japanese version, where in the original he sounded more childlike. Either way, I think his voice is a nice fit with Pazu. Anna Paquin, the young Oscar winner from \"The Piano\", plays Sheeta. This is also a nice performance, but the voice is a bit uneven, she doesn't stay true to one accent. At times she sounds as American as apple pie, but at other times she sounds like someone from New Zealand. The performance I most enjoyed however was of Coris Leachman, who played Mama Dola. Not only is this an excellent performance, but the voice and emotion she gives the character really brings it to life. If there was ever a live action Laputa movie (G-d forbid), she would be the one to play her, you can just imagine her in the role (well, somewhat). Luke Skywalker himself, Mark Hamill is Muska, and this is another top rate Hamill performance. You may be familiar with Hamill from a long line of voice work after he did the original Star Wars movies, but he renders Muska to full evil. His voice sounds like his regular voice and mix of the Joker, who he played for many episodes on the animated Batman series. Rounding out the cast is voice character actor Jim Cummings, who does a great, gruff job as the general and Andy Dick and Mandy Patakin as members of the Dola gang.<br /><br />Now let me talk about what really makes this dub special, Joe Hisaishi's newly arranged music! For those who have never heard of him, Mr. Hisaishi does the music and like all of Miyazaki's films, the music is very memorable. Each of his scores has it's own personas which fits the particular film perfectly. Now, these new arrangements he has done are more \"American like\", which I think was the goal of the new recordings. Don't worry, the classic tunes of the Japanese version are still here in great form. The score, to me, sounds to be arranged like this is a Hollywood blockbuster. It has more power, it has more emphasis, it's clearer and deeper. The film's prologue, the first seconds where we are introduced to the airships, has some new music (I am not sure, but I believe when we first saw the ships there was no music at all). But a majority of the music has new backdrops and more background music to enjoy. Things seem very enhanced. In a powerful scene, the music is more stronger then in the original versions. In a calm scene, it's more calmer. Overall, I think many of you will be pleased with the new arrangements an mixes, I highly did myself, and personally think it helps improve the film. I prefer the new score over the old one, and I hope Disney will release or license the music rights to a full blown soundtrack.<br /><br />Another plus side to the dub is that the story remains faithful, and much of the original Japanese lines are intact. In Kiki, I'm sure a few lines where changed, and this is the same way, lines have been changed. But a majority are close or exactly the original lines and dialogue Miyazaki has written. I was afraid some excellent lines would be butchered, but they were there intact. Some new lines have been added as well which help out. But I am not sure whether to consider this a good thing or a bad thing, Disney DID NOT translate the ending song, it was in Japanese. I was mortified when they did completely new songs for the Kiki dub, but with this version it's the original song... in Japanese. So I guess it's good it's still the original, but bad since a majority of people seeing this dub speak English.<br /><br />There is a big down side to this dub, and it deals with how the voices match the character's lips. Of course in any dub it won't be perfect, but I think in Kiki and Mononoke the dubbing of lines to match were much better executed (and Disney had a little bit more time with this one...). Some of the time everything matches perfect, some of the time it doesn't completley match, and in a rare case, someone says something and the lips don't move at all (there's a scene where Sheeta chuckles and her mouth doesn't move one bit).<br /><br />As far as things about the film itself, these are my thoughts. I thought the most amazing part of Laputa was the animation. From the opening sequence to the ending, the animation is so lush and detailed, you just have to watch in awe. You see the true nature of each character, true detail to their face with extreme close ups and action. You have to give a ton of credit for the effort that these animators put into this film. Everything is so well done and beautifully hand drawn, it's like a moving piece of art. And to think, this was done in the mid 1980's. The animation is quite different from Disney, Ghibli has it's own distinctive flare which is very different, but very good. And after all these years, the colors look as vibrant as ever. Laputa also has tons of action sequences, lots of plane dogfights plus a few on ground. These sequences are so well done and so intriguing, it's scary that they are comparable to a big budget action film. And the finale is just something you MUST see. The sound effects are pure and classic and fit explosions, guns firing and everything else well. And like all Miyazaki films, each one focuses on a different theme (i.g. Kiki: Confidence). This one has a great a lesson on greed and power. People don't realize how greed can take over you, and how having too much power isn't good. People are obsessed with power, and are greedy, and the main villian, Muska, greatly shows this.<br /><br />All in all, Laputa: Castle In The Sky was a great film to begin with, and is now improved for the most part. I am glad a more mainstream audience now have the chance to see this classic animated film in all it's glory. With a great voice cast who put a lot into the film with the excellent redone musical score from Joe Hisaishi, Disney has done a nice job on this dub and is quite worthy. Though I think the voices matched the mouths better in the Kiki and Princess Mononoke Disney dubs, Castle In The Sky is still a great dub and is worth the long delays because now more can expierence a fantastic film.\n",
      "\n",
      "Review: \n",
      "Warning: Does contain spoilers.<br /><br />Open Your Eyes<br /><br />If you have not seen this film and plan on doing so, just stop reading here and take my word for it. You have to see this film. I have seen it four times so far and I still haven't made up my mind as to what exactly happened in the film. That is all I am going to say because if you have not seen this film, then stop reading right now.<br /><br />If you are still reading then I am going to pose some questions to you and maybe if anyone has any answers you can email me and let me know what you think.<br /><br />I remember my Grade 11 English teacher quite well. His name was Mr. Krisak. To me, he was wise beyond his years and he always had this circuitous way of teaching you things that perhaps you weren't all too keen on. If we didn't like Shakespeare, then he turned the story into a modern day romance with modern day language so we could understand it. Our class room was never a room, it was a cottage and we were on the lake reading a book at our own leisure time. This was his own indelible way of branding something into our sponge-like minds. <br /><br />I begin this review of Vanilla Sky with a description of this brilliant man because he once gave us an assignment that has been firmly etched in my mind, like the phone number of a long lost best friend, and it finally made some sense to me after watching The Matrix. Now if I didn't know better, I would have thought that the Wachowski brothers were really just an alias for my teacher Mr. Krisak. But giving them the benefit of the doubt, we'll assume it wasn't him. But that was the first time this assignment was anything more than impalpable. <br /><br />He had asked us to prove to him and to ourselves that were real. Show me how you can tell that you are real. This got the class spouting off all of the usual ideas that I'm sure you can imagine. Everything from pain, to sense of touch to sense of loss to sense of hunger were spouted off to our teacher to prove to him that we were real. After every scenario that we gave him, he would come back with the one answer that would leave us speechless.<br /><br />\"What if you are nothing but someone else's dream?\"<br /><br />What if you were someone else's dream? What a messed up question that is. This was a question/scenario posed to us about 15 years ago, before the astronomical use of the Internet and rapid advancement of computers. How possible could it seem back then? But if you look at today's technology, now ask yourself, what it you were a part of someone else's dream.<br /><br />Another brilliant but surreal film this year, David Lynch's Mulholland Drive explored similar areas. But Vanilla Sky goes deeper than any other film could hope to. In short this is one film that will literally (if you let it) blow your mind from all of the possibilities that surround you.<br /><br />Open your Eyes.<br /><br />Tom Cruise plays David Aames, a young, hot shot, righteous, full of himself publisher and owner of several magazines. He inherited this from his father and although he has talent and business savvy, his board of governers, the Seven Dwarfs, think he is a rich dink born with a silver spoon in his mouth. They feel he has done nothing to deserve the pinnacle of success that each and every one of them believes should go to them. <br /><br />Early in the film we meet one of David's gorgeous toys named Julie Gianni, played with pernicious but bombastic perfection by Cameron Diaz. David and Julie play a good game, both claiming they are just there to use each other and are not the slightest bit interested in a monogamous, committed relationship. This is the type of relationship commensurate with David's other flings he's had in the sexual prime of his life. And although both talk a good game, we can tell that only one is really telling the truth. <br /><br />Next we meet Brian Shelby, played with a stroke of genius by Kevin Smith's good buddy Jason Lee. Brian is writing a book that David is going to publish but they are also very good friends. This is something that David has very little of in his life and you can sense a real caring for one another early on in the film. Brian has one famous line that he keeps telling David over and over again. And that is \" the sweet ain't so sweet without the bitter.\" He goes on to tell him that one day he will find true love and not just this part time lover status that he seems to perpetrate with all of the floozies who inhabit his bed for a night or two.<br /><br />At David's huge birthday bash, (so huge that the likes of Steven Spielberg wish him a happy birthday) Brian enters with his date, Sofia Sorrano, played of course by Penelope Cruz with what has to be the best performance of this year by an actress. This is a bash by invite only and at first David and Sofia seem intrigued with one another. And in typical David fashion, despite his best friend being there, he begins to flirt with Sofia. To complicate things, Julie shows up uninvited and begins spying on David. David then spends the night with Sofia, but they only talk and draw caricatures of one another. There is no hanky panky. The next day, as David is leaving Sofia's apartment, he is greeted by Julie, who offers him a ride and from there.......well, I think we have all seen the commercials.<br /><br />That is all I will really say about the plot, because from here the film teases us with what is reality and what is blurred perception. We are introduced to a character played by Kurt Russel and a few other shady characters that all play a part in this labyrinth like haze. There is a subtext of death and possible panacea-like cure-alls that may or not be able to create the possibility of eternal life. This is just one of the intriguing possibilities the movie offers us, but it doesn't end there.<br /><br />Like many movies seem to thrive on today, this film has a secret. Sixth Sense may have began this craze, but look even further back and you can maybe thank Angel Heart for starting the craze. Regardless of how it originated, Vanilla Sky has one of it's own surreptitious gut busters. And what makes this one so much fun is that the film gives you many obvious clues along the way but not enough to give you an apodictic solution to the gauntlet of truth and lies you have just put yourself through. I have seen this film four times and every time it has been because I want to see if there is something more I can pick up, something more I can understand. To be able to work your mind in the theater, to enable it to open up to new possibilities is something rare in a film. All of the ersatz so called \"Best Pictures of the year\" have been good but nothing spectacular. They lack substance. A Beautiful Mind was intriguing but flat, The Royal Tenenbaums was interesting but uneven. Vanilla Sky is a rarity because it is a film that leaves you yearning for more yet guarantees your satisfaction because the film and those that made it care about it. I know this film has received mixed reviews but I just think that those who don't like it don't quite understand it. <br /><br />This is what film making is supposed to be like. This is what a film is supposed to do to you. It is supposed to make you feel something. Most of the other films this year have been just empty spaces. This one isn't.<br /><br />10 out of 10 The best film of the year. I would love to see this get nominated for best picture and I would love to see Cruz up for best Actress, Diaz for best supporting, Cruise for best actor and Jason Mewes should be a shoe in for best supporting actor. Cameron Crowe should there as well. None of this may come to pass, and that is a shame. This is one film that should not be missed. <br /><br />And on a final note, I am quite sure Mr. Krisak would like this film and maybe this is the one film that may answer his question. Can you prove you are real? Or are we just a figment of someone's imagination? Are we artificially transplanted for someone else's bemusement? This is a film that spawns more questions than it does answers. And I'm sure that is just fine with him.<br /><br />Open Your Eyes\n",
      "\n"
     ]
    }
   ],
   "source": [
    "for review in df1.sort_values(by=\"length\", ascending=False)[\"review\"][:3]:\n",
    "    print(f\"Review: \\n{review}\\n\")"
   ]
  },
  {
   "cell_type": "code",
   "execution_count": 14,
   "id": "4fe11c41",
   "metadata": {},
   "outputs": [
    {
     "data": {
      "text/html": [
       "<div>\n",
       "<style scoped>\n",
       "    .dataframe tbody tr th:only-of-type {\n",
       "        vertical-align: middle;\n",
       "    }\n",
       "\n",
       "    .dataframe tbody tr th {\n",
       "        vertical-align: top;\n",
       "    }\n",
       "\n",
       "    .dataframe thead th {\n",
       "        text-align: right;\n",
       "    }\n",
       "</style>\n",
       "<table border=\"1\" class=\"dataframe\">\n",
       "  <thead>\n",
       "    <tr style=\"text-align: right;\">\n",
       "      <th></th>\n",
       "      <th>review</th>\n",
       "      <th>sentiment</th>\n",
       "      <th>length</th>\n",
       "    </tr>\n",
       "  </thead>\n",
       "  <tbody>\n",
       "    <tr>\n",
       "      <th>10835</th>\n",
       "      <td>i really did not watch this show as often when...</td>\n",
       "      <td>positive</td>\n",
       "      <td>3745</td>\n",
       "    </tr>\n",
       "    <tr>\n",
       "      <th>45390</th>\n",
       "      <td>&gt;&gt;&gt;&gt;Author: msgreen-1 from Canada &gt;&gt;&gt;&gt;The big ...</td>\n",
       "      <td>positive</td>\n",
       "      <td>1121</td>\n",
       "    </tr>\n",
       "    <tr>\n",
       "      <th>49338</th>\n",
       "      <td>What's to like about this movie???&lt;br /&gt;&lt;br /&gt;...</td>\n",
       "      <td>negative</td>\n",
       "      <td>2211</td>\n",
       "    </tr>\n",
       "    <tr>\n",
       "      <th>21101</th>\n",
       "      <td>The opening scenes move as fluidly as frozen v...</td>\n",
       "      <td>negative</td>\n",
       "      <td>810</td>\n",
       "    </tr>\n",
       "    <tr>\n",
       "      <th>46652</th>\n",
       "      <td>Anastasia: The Mystery of Anna was a two-part ...</td>\n",
       "      <td>positive</td>\n",
       "      <td>1212</td>\n",
       "    </tr>\n",
       "  </tbody>\n",
       "</table>\n",
       "</div>"
      ],
      "text/plain": [
       "                                                  review sentiment  length\n",
       "10835  i really did not watch this show as often when...  positive    3745\n",
       "45390  >>>>Author: msgreen-1 from Canada >>>>The big ...  positive    1121\n",
       "49338  What's to like about this movie???<br /><br />...  negative    2211\n",
       "21101  The opening scenes move as fluidly as frozen v...  negative     810\n",
       "46652  Anastasia: The Mystery of Anna was a two-part ...  positive    1212"
      ]
     },
     "execution_count": 14,
     "metadata": {},
     "output_type": "execute_result"
    }
   ],
   "source": [
    "df1[\"length\"] = df1[\"review\"].apply(lambda x:len(x))\n",
    "df1.head() "
   ]
  },
  {
   "cell_type": "code",
   "execution_count": 16,
   "id": "33732527",
   "metadata": {},
   "outputs": [
    {
     "data": {
      "text/plain": [
       "31240    12930\n",
       "42946     9420\n",
       "1531      8180\n",
       "14562     7731\n",
       "19762     7095\n",
       "         ...  \n",
       "10973      111\n",
       "1417       101\n",
       "13315       93\n",
       "13109       61\n",
       "11926       53\n",
       "Name: length, Length: 10000, dtype: int64"
      ]
     },
     "execution_count": 16,
     "metadata": {},
     "output_type": "execute_result"
    }
   ],
   "source": [
    "df1['length'].sort_values(ascending=False)"
   ]
  },
  {
   "cell_type": "code",
   "execution_count": 17,
   "id": "ecd2caf2",
   "metadata": {},
   "outputs": [
    {
     "data": {
      "text/plain": [
       "Text(0.5, 1.0, 'Distribution of Review Length')"
      ]
     },
     "execution_count": 17,
     "metadata": {},
     "output_type": "execute_result"
    },
    {
     "data": {
      "image/png": "[encoded data removed]",
      "text/plain": [
       "<Figure size 360x360 with 1 Axes>"
      ]
     },
     "metadata": {},
     "output_type": "display_data"
    }
   ],
   "source": [
    "sns.displot(df1,x =\"length\",kde = True,)\n",
    "plt.title(\"Distribution of Review Length\")"
   ]
  },
  {
   "cell_type": "code",
   "execution_count": 18,
   "id": "eb52b3df",
   "metadata": {},
   "outputs": [
    {
     "data": {
      "text/html": [
       "<div>\n",
       "<style scoped>\n",
       "    .dataframe tbody tr th:only-of-type {\n",
       "        vertical-align: middle;\n",
       "    }\n",
       "\n",
       "    .dataframe tbody tr th {\n",
       "        vertical-align: top;\n",
       "    }\n",
       "\n",
       "    .dataframe thead th {\n",
       "        text-align: right;\n",
       "    }\n",
       "</style>\n",
       "<table border=\"1\" class=\"dataframe\">\n",
       "  <thead>\n",
       "    <tr style=\"text-align: right;\">\n",
       "      <th></th>\n",
       "      <th>count</th>\n",
       "      <th>mean</th>\n",
       "      <th>std</th>\n",
       "      <th>min</th>\n",
       "      <th>25%</th>\n",
       "      <th>50%</th>\n",
       "      <th>75%</th>\n",
       "      <th>max</th>\n",
       "    </tr>\n",
       "  </thead>\n",
       "  <tbody>\n",
       "    <tr>\n",
       "      <th>length</th>\n",
       "      <td>10000.0</td>\n",
       "      <td>1311.1575</td>\n",
       "      <td>979.102997</td>\n",
       "      <td>53.0</td>\n",
       "      <td>699.0</td>\n",
       "      <td>973.0</td>\n",
       "      <td>1608.0</td>\n",
       "      <td>12930.0</td>\n",
       "    </tr>\n",
       "  </tbody>\n",
       "</table>\n",
       "</div>"
      ],
      "text/plain": [
       "          count       mean         std   min    25%    50%     75%      max\n",
       "length  10000.0  1311.1575  979.102997  53.0  699.0  973.0  1608.0  12930.0"
      ]
     },
     "execution_count": 18,
     "metadata": {},
     "output_type": "execute_result"
    }
   ],
   "source": [
    "df1.describe().T"
   ]
  },
  {
   "cell_type": "code",
   "execution_count": 19,
   "id": "8aadcd17",
   "metadata": {},
   "outputs": [
    {
     "data": {
      "text/plain": [
       "<AxesSubplot:title={'center':'Descriptive Stats of Dataframe'}>"
      ]
     },
     "execution_count": 19,
     "metadata": {},
     "output_type": "execute_result"
    },
    {
     "data": {
      "image/png": "[encoded data removed]",
      "text/plain": [
       "<Figure size 432x288 with 1 Axes>"
      ]
     },
     "metadata": {},
     "output_type": "display_data"
    },
    {
     "data": {
      "text/plain": [
       "<Figure size 2000x2000 with 0 Axes>"
      ]
     },
     "metadata": {},
     "output_type": "display_data"
    }
   ],
   "source": [
    "from pandas.plotting import table\n",
    "from matplotlib.pyplot import figure\n",
    "fig,ax = plt.subplots(1,1)\n",
    "ax.set_ylim([0,22000])\n",
    "plt.title(\"Descriptive Stats of Dataframe\")\n",
    "figure(figsize = (20,20),dpi = 100)\n",
    "table(ax,np.round(df1.describe(),2),loc = \"upper right\",colWidths = [0.2,0.2,0.2])\n",
    "df1.describe().plot(ax=ax,legend = None)"
   ]
  },
  {
   "cell_type": "code",
   "execution_count": 20,
   "id": "0589909c",
   "metadata": {},
   "outputs": [
    {
     "name": "stdout",
     "output_type": "stream",
     "text": [
      "The number of unique keywords in our data : 9986\n"
     ]
    }
   ],
   "source": [
    "print(\"The number of unique keywords in our data :\",df1['review'].nunique())"
   ]
  },
  {
   "cell_type": "code",
   "execution_count": 21,
   "id": "01be028c",
   "metadata": {},
   "outputs": [],
   "source": [
    "import re"
   ]
  },
  {
   "cell_type": "code",
   "execution_count": 22,
   "id": "7002a44a",
   "metadata": {},
   "outputs": [],
   "source": [
    "df1[\"spec_char\"] = df1[\"review\"].map(lambda x: len(re.findall(r\"[\\W_]\", re.sub(r\"\\s\", \"\", x))))"
   ]
  },
  {
   "cell_type": "code",
   "execution_count": 23,
   "id": "8a589acb",
   "metadata": {},
   "outputs": [
    {
     "data": {
      "text/plain": [
       "22     218\n",
       "27     193\n",
       "20     182\n",
       "23     179\n",
       "24     178\n",
       "      ... \n",
       "211      1\n",
       "330      1\n",
       "298      1\n",
       "282      1\n",
       "591      1\n",
       "Name: spec_char, Length: 276, dtype: int64"
      ]
     },
     "execution_count": 23,
     "metadata": {},
     "output_type": "execute_result"
    }
   ],
   "source": [
    "df1[\"spec_char\"].value_counts()"
   ]
  },
  {
   "cell_type": "code",
   "execution_count": 24,
   "id": "8e6bf81a",
   "metadata": {},
   "outputs": [],
   "source": [
    "def convert_abbrev(word):\n",
    "    return abbreviations[word.lower()] if word.lower() in abbreviations.keys() else word"
   ]
  },
  {
   "cell_type": "code",
   "execution_count": 25,
   "id": "c197208e",
   "metadata": {},
   "outputs": [],
   "source": [
    "def convert_abbrev_in_text(text):\n",
    "    tokens = word_tokenize(text)\n",
    "    tokens = [convert_abbrev(word) for word in tokens]\n",
    "    text = ' '.join(tokens)\n",
    "    return text"
   ]
  },
  {
   "cell_type": "code",
   "execution_count": 26,
   "id": "61c174a8",
   "metadata": {},
   "outputs": [],
   "source": [
    "abbreviations = {\n",
    "    \"$\" : \" dollar \",\n",
    "    \"€\" : \" euro \",\n",
    "    \"4ao\" : \"for adults only\",\n",
    "    \"a.m\" : \"before midday\",\n",
    "    \"a3\" : \"anytime anywhere anyplace\",\n",
    "    \"aamof\" : \"as a matter of fact\",\n",
    "    \"acct\" : \"account\",\n",
    "    \"adih\" : \"another day in hell\",\n",
    "    \"afaic\" : \"as far as i am concerned\",\n",
    "    \"afaict\" : \"as far as i can tell\",\n",
    "    \"afaik\" : \"as far as i know\",\n",
    "    \"afair\" : \"as far as i remember\",\n",
    "    \"afk\" : \"away from keyboard\",\n",
    "    \"app\" : \"application\",\n",
    "    \"approx\" : \"approximately\",\n",
    "    \"apps\" : \"applications\",\n",
    "    \"asap\" : \"as soon as possible\",\n",
    "    \"asl\" : \"age, sex, location\",\n",
    "    \"atk\" : \"at the keyboard\",\n",
    "    \"ave.\" : \"avenue\",\n",
    "    \"aymm\" : \"are you my mother\",\n",
    "    \"ayor\" : \"at your own risk\",\n",
    "    \"b&b\" : \"bed and breakfast\",\n",
    "    \"b+b\" : \"bed and breakfast\",\n",
    "    \"b.c\" : \"before christ\",\n",
    "    \"b2b\" : \"business to business\",\n",
    "    \"b2c\" : \"business to customer\",\n",
    "    \"b4\" : \"before\",\n",
    "    \"b4n\" : \"bye for now\",\n",
    "    \"b@u\" : \"back at you\",\n",
    "    \"bae\" : \"before anyone else\",\n",
    "    \"bak\" : \"back at keyboard\",\n",
    "    \"bbbg\" : \"bye bye be good\",\n",
    "    \"bbc\" : \"british broadcasting corporation\",\n",
    "    \"bbias\" : \"be back in a second\",\n",
    "    \"bbl\" : \"be back later\",\n",
    "    \"bbs\" : \"be back soon\",\n",
    "    \"be4\" : \"before\",\n",
    "    \"bfn\" : \"bye for now\",\n",
    "    \"blvd\" : \"boulevard\",\n",
    "    \"bout\" : \"about\",\n",
    "    \"brb\" : \"be right back\",\n",
    "    \"bros\" : \"brothers\",\n",
    "    \"brt\" : \"be right there\",\n",
    "    \"bsaaw\" : \"big smile and a wink\",\n",
    "    \"btw\" : \"by the way\",\n",
    "    \"bwl\" : \"bursting with laughter\",\n",
    "    \"c/o\" : \"care of\",\n",
    "    \"cet\" : \"central european time\",\n",
    "    \"cf\" : \"compare\",\n",
    "    \"cia\" : \"central intelligence agency\",\n",
    "    \"csl\" : \"can not stop laughing\",\n",
    "    \"cu\" : \"see you\",\n",
    "    \"cul8r\" : \"see you later\",\n",
    "    \"cv\" : \"curriculum vitae\",\n",
    "    \"cwot\" : \"complete waste of time\",\n",
    "    \"cya\" : \"see you\",\n",
    "    \"cyt\" : \"see you tomorrow\",\n",
    "    \"dae\" : \"does anyone else\",\n",
    "    \"dbmib\" : \"do not bother me i am busy\",\n",
    "    \"diy\" : \"do it yourself\",\n",
    "    \"dm\" : \"direct message\",\n",
    "    \"dwh\" : \"during work hours\",\n",
    "    \"e123\" : \"easy as one two three\",\n",
    "    \"eet\" : \"eastern european time\",\n",
    "    \"eg\" : \"example\",\n",
    "    \"embm\" : \"early morning business meeting\",\n",
    "    \"encl\" : \"enclosed\",\n",
    "    \"encl.\" : \"enclosed\",\n",
    "    \"etc\" : \"and so on\",\n",
    "    \"faq\" : \"frequently asked questions\",\n",
    "    \"fawc\" : \"for anyone who cares\",\n",
    "    \"fb\" : \"facebook\",\n",
    "    \"fc\" : \"fingers crossed\",\n",
    "    \"fig\" : \"figure\",\n",
    "    \"fimh\" : \"forever in my heart\",\n",
    "    \"ft.\" : \"feet\",\n",
    "    \"ft\" : \"featuring\",\n",
    "    \"ftl\" : \"for the loss\",\n",
    "    \"ftw\" : \"for the win\",\n",
    "    \"fwiw\" : \"for what it is worth\",\n",
    "    \"fyi\" : \"for your information\",\n",
    "    \"g9\" : \"genius\",\n",
    "    \"gahoy\" : \"get a hold of yourself\",\n",
    "    \"gal\" : \"get a life\",\n",
    "    \"gcse\" : \"general certificate of secondary education\",\n",
    "    \"gfn\" : \"gone for now\",\n",
    "    \"gg\" : \"good game\",\n",
    "    \"gl\" : \"good luck\",\n",
    "    \"glhf\" : \"good luck have fun\",\n",
    "    \"gmt\" : \"greenwich mean time\",\n",
    "    \"gmta\" : \"great minds think alike\",\n",
    "    \"gn\" : \"good night\",\n",
    "    \"g.o.a.t\" : \"greatest of all time\",\n",
    "    \"goat\" : \"greatest of all time\",\n",
    "    \"goi\" : \"get over it\",\n",
    "    \"gps\" : \"global positioning system\",\n",
    "    \"gr8\" : \"great\",\n",
    "    \"gratz\" : \"congratulations\",\n",
    "    \"gyal\" : \"girl\",\n",
    "    \"h&c\" : \"hot and cold\",\n",
    "    \"hp\" : \"horsepower\",\n",
    "    \"hr\" : \"hour\",\n",
    "    \"hrh\" : \"his royal highness\",\n",
    "    \"ht\" : \"height\",\n",
    "    \"ibrb\" : \"i will be right back\",\n",
    "    \"ic\" : \"i see\",\n",
    "    \"icq\" : \"i seek you\",\n",
    "    \"icymi\" : \"in case you missed it\",\n",
    "    \"idc\" : \"i do not care\",\n",
    "    \"idgadf\" : \"i do not give a damn fuck\",\n",
    "    \"idgaf\" : \"i do not give a fuck\",\n",
    "    \"idk\" : \"i do not know\",\n",
    "    \"ie\" : \"that is\",\n",
    "    \"i.e\" : \"that is\",\n",
    "    \"ifyp\" : \"i feel your pain\",\n",
    "    \"ig\" : \"instagram\",\n",
    "    \"iirc\" : \"if i remember correctly\",\n",
    "    \"ilu\" : \"i love you\",\n",
    "    \"ily\" : \"i love you\",\n",
    "    \"imho\" : \"in my humble opinion\",\n",
    "    \"imo\" : \"in my opinion\",\n",
    "    \"imu\" : \"i miss you\",\n",
    "    \"iow\" : \"in other words\",\n",
    "    \"irl\" : \"in real life\",\n",
    "    \"j4f\" : \"just for fun\",\n",
    "    \"jic\" : \"just in case\",\n",
    "    \"jk\" : \"just kidding\",\n",
    "    \"jsyk\" : \"just so you know\",\n",
    "    \"l8r\" : \"later\",\n",
    "    \"lb\" : \"pound\",\n",
    "    \"lbs\" : \"pounds\",\n",
    "    \"ldr\" : \"long distance relationship\",\n",
    "    \"lmao\" : \"laugh my ass off\",\n",
    "    \"lmfao\" : \"laugh my fucking ass off\",\n",
    "    \"lol\" : \"laughing out loud\",\n",
    "    \"ltd\" : \"limited\",\n",
    "    \"ltns\" : \"long time no see\",\n",
    "    \"m8\" : \"mate\",\n",
    "    \"mf\" : \"motherfucker\",\n",
    "    \"mfs\" : \"motherfuckers\",\n",
    "    \"mfw\" : \"my face when\",\n",
    "    \"mofo\" : \"motherfucker\",\n",
    "    \"mph\" : \"miles per hour\",\n",
    "    \"mr\" : \"mister\",\n",
    "    \"mrw\" : \"my reaction when\",\n",
    "    \"ms\" : \"miss\",\n",
    "    \"mte\" : \"my thoughts exactly\",\n",
    "    \"nagi\" : \"not a good idea\",\n",
    "    \"nbc\" : \"national broadcasting company\",\n",
    "    \"nbd\" : \"not big deal\",\n",
    "    \"nfs\" : \"not for sale\",\n",
    "    \"ngl\" : \"not going to lie\",\n",
    "    \"nhs\" : \"national health service\",\n",
    "    \"nrn\" : \"no reply necessary\",\n",
    "    \"nsfl\" : \"not safe for life\",\n",
    "    \"nsfw\" : \"not safe for work\",\n",
    "    \"nth\" : \"nice to have\",\n",
    "    \"nvr\" : \"never\",\n",
    "    \"nyc\" : \"new york city\",\n",
    "    \"oc\" : \"original content\",\n",
    "    \"og\" : \"original\",\n",
    "    \"ohp\" : \"overhead projector\",\n",
    "    \"oic\" : \"oh i see\",\n",
    "    \"omdb\" : \"over my dead body\",\n",
    "    \"omg\" : \"oh my god\",\n",
    "    \"omw\" : \"on my way\",\n",
    "    \"p.a\" : \"per annum\",\n",
    "    \"p.m\" : \"after midday\",\n",
    "    \"pm\" : \"prime minister\",\n",
    "    \"poc\" : \"people of color\",\n",
    "    \"pov\" : \"point of view\",\n",
    "    \"pp\" : \"pages\",\n",
    "    \"ppl\" : \"people\",\n",
    "    \"prw\" : \"parents are watching\",\n",
    "    \"ps\" : \"postscript\",\n",
    "    \"pt\" : \"point\",\n",
    "    \"ptb\" : \"please text back\",\n",
    "    \"pto\" : \"please turn over\",\n",
    "    \"qpsa\" : \"what happens\", #\"que pasa\",\n",
    "    \"ratchet\" : \"rude\",\n",
    "    \"rbtl\" : \"read between the lines\",\n",
    "    \"rlrt\" : \"real life retweet\",\n",
    "    \"rofl\" : \"rolling on the floor laughing\",\n",
    "    \"roflol\" : \"rolling on the floor laughing out loud\",\n",
    "    \"rotflmao\" : \"rolling on the floor laughing my ass off\",\n",
    "    \"rt\" : \"retweet\",\n",
    "    \"ruok\" : \"are you ok\",\n",
    "    \"sfw\" : \"safe for work\",\n",
    "    \"sk8\" : \"skate\",\n",
    "    \"smh\" : \"shake my head\",\n",
    "    \"sq\" : \"square\",\n",
    "    \"srsly\" : \"seriously\",\n",
    "    \"ssdd\" : \"same stuff different day\",\n",
    "    \"tbh\" : \"to be honest\",\n",
    "    \"tbs\" : \"tablespooful\",\n",
    "    \"tbsp\" : \"tablespooful\",\n",
    "    \"tfw\" : \"that feeling when\",\n",
    "    \"thks\" : \"thank you\",\n",
    "    \"tho\" : \"though\",\n",
    "    \"thx\" : \"thank you\",\n",
    "    \"tia\" : \"thanks in advance\",\n",
    "    \"til\" : \"today i learned\",\n",
    "    \"tl;dr\" : \"too long i did not read\",\n",
    "    \"tldr\" : \"too long i did not read\",\n",
    "    \"tmb\" : \"tweet me back\",\n",
    "    \"tntl\" : \"trying not to laugh\",\n",
    "    \"ttyl\" : \"talk to you later\",\n",
    "    \"u\" : \"you\",\n",
    "    \"u2\" : \"you too\",\n",
    "    \"u4e\" : \"yours for ever\",\n",
    "    \"utc\" : \"coordinated universal time\",\n",
    "    \"w/\" : \"with\",\n",
    "    \"w/o\" : \"without\",\n",
    "    \"w8\" : \"wait\",\n",
    "    \"wassup\" : \"what is up\",\n",
    "    \"wb\" : \"welcome back\",\n",
    "    \"wtf\" : \"what the fuck\",\n",
    "    \"wtg\" : \"way to go\",\n",
    "    \"wtpa\" : \"where the party at\",\n",
    "    \"wuf\" : \"where are you from\",\n",
    "    \"wuzup\" : \"what is up\",\n",
    "    \"wywh\" : \"wish you were here\",\n",
    "    \"yd\" : \"yard\",\n",
    "    \"ygtr\" : \"you got that right\",\n",
    "    \"ynk\" : \"you never know\",\n",
    "    \"zzz\" : \"sleeping bored and tired\"\n",
    "}"
   ]
  },
  {
   "cell_type": "code",
   "execution_count": 27,
   "id": "448d185d",
   "metadata": {},
   "outputs": [],
   "source": [
    "lemma = WordNetLemmatizer()"
   ]
  },
  {
   "cell_type": "code",
   "execution_count": 28,
   "id": "caa406c1",
   "metadata": {},
   "outputs": [],
   "source": [
    "def data_cleanse(review):\n",
    "    # Lower casing\n",
    "    review = review.lower()\n",
    "\n",
    "    # getting rid of mentions\n",
    "    review = re.sub(r\"@\\S+\", \" \", review)\n",
    "\n",
    "    # removing html\n",
    "    review = re.sub(r\"&.*?;|<.*?>\", \" \", review)\n",
    "\n",
    "    # url removal\n",
    "    review = re.sub(r\"https?://\\S+|www\\.\\S+\", \" \", review)\n",
    "\n",
    "    # handling abbreviations\n",
    "    review = convert_abbrev_in_text(review)\n",
    "\n",
    "    # non word removals (special chars)\n",
    "    review = re.sub(r\"[^a-z]\", \" \", review)\n",
    "\n",
    "    # Stop word removal\n",
    "    review = \" \".join(word for word in word_tokenize(review) if word not in stopwords.words('english'))\n",
    "\n",
    "    # lemmatization\n",
    "    review = \" \".join(lemma.lemmatize(word) for word in word_tokenize(review))\n",
    "\n",
    "    # Single char removal\n",
    "    review = re.sub(r\"\\b\\w\\b\", \"\", review).strip()\n",
    "\n",
    "    return review"
   ]
  },
  {
   "cell_type": "code",
   "execution_count": 30,
   "id": "8b0f7291",
   "metadata": {},
   "outputs": [],
   "source": [
    "df1[\"Cleaned_review\"] =df1[\"review\"].apply(data_cleanse)"
   ]
  },
  {
   "cell_type": "code",
   "execution_count": 31,
   "id": "e396003b",
   "metadata": {},
   "outputs": [],
   "source": [
    "df1[\"Cleaned_Words\"] = df1[\"Cleaned_review\"].apply(lambda x: len(re.sub(r\"[\\W_]\", \" \", x).split()))"
   ]
  },
  {
   "cell_type": "code",
   "execution_count": 32,
   "id": "23f07841",
   "metadata": {},
   "outputs": [
    {
     "data": {
      "text/html": [
       "<div>\n",
       "<style scoped>\n",
       "    .dataframe tbody tr th:only-of-type {\n",
       "        vertical-align: middle;\n",
       "    }\n",
       "\n",
       "    .dataframe tbody tr th {\n",
       "        vertical-align: top;\n",
       "    }\n",
       "\n",
       "    .dataframe thead th {\n",
       "        text-align: right;\n",
       "    }\n",
       "</style>\n",
       "<table border=\"1\" class=\"dataframe\">\n",
       "  <thead>\n",
       "    <tr style=\"text-align: right;\">\n",
       "      <th></th>\n",
       "      <th>review</th>\n",
       "      <th>sentiment</th>\n",
       "      <th>length</th>\n",
       "      <th>spec_char</th>\n",
       "      <th>Cleaned_review</th>\n",
       "      <th>Cleaned_Words</th>\n",
       "    </tr>\n",
       "  </thead>\n",
       "  <tbody>\n",
       "    <tr>\n",
       "      <th>10835</th>\n",
       "      <td>i really did not watch this show as often when...</td>\n",
       "      <td>positive</td>\n",
       "      <td>3745</td>\n",
       "      <td>77</td>\n",
       "      <td>really watch show often child first episode re...</td>\n",
       "      <td>350</td>\n",
       "    </tr>\n",
       "    <tr>\n",
       "      <th>45390</th>\n",
       "      <td>&gt;&gt;&gt;&gt;Author: msgreen-1 from Canada &gt;&gt;&gt;&gt;The big ...</td>\n",
       "      <td>positive</td>\n",
       "      <td>1121</td>\n",
       "      <td>192</td>\n",
       "      <td>author msgreen canada big problem china syndro...</td>\n",
       "      <td>89</td>\n",
       "    </tr>\n",
       "    <tr>\n",
       "      <th>49338</th>\n",
       "      <td>What's to like about this movie???&lt;br /&gt;&lt;br /&gt;...</td>\n",
       "      <td>negative</td>\n",
       "      <td>2211</td>\n",
       "      <td>169</td>\n",
       "      <td>like movie colour impressive underwater photog...</td>\n",
       "      <td>172</td>\n",
       "    </tr>\n",
       "    <tr>\n",
       "      <th>21101</th>\n",
       "      <td>The opening scenes move as fluidly as frozen v...</td>\n",
       "      <td>negative</td>\n",
       "      <td>810</td>\n",
       "      <td>17</td>\n",
       "      <td>opening scene move fluidly frozen velveeta att...</td>\n",
       "      <td>73</td>\n",
       "    </tr>\n",
       "    <tr>\n",
       "      <th>46652</th>\n",
       "      <td>Anastasia: The Mystery of Anna was a two-part ...</td>\n",
       "      <td>positive</td>\n",
       "      <td>1212</td>\n",
       "      <td>43</td>\n",
       "      <td>anastasia mystery anna two part star studded h...</td>\n",
       "      <td>120</td>\n",
       "    </tr>\n",
       "    <tr>\n",
       "      <th>...</th>\n",
       "      <td>...</td>\n",
       "      <td>...</td>\n",
       "      <td>...</td>\n",
       "      <td>...</td>\n",
       "      <td>...</td>\n",
       "      <td>...</td>\n",
       "    </tr>\n",
       "    <tr>\n",
       "      <th>32771</th>\n",
       "      <td>Black and White film. Good photography. Believ...</td>\n",
       "      <td>negative</td>\n",
       "      <td>678</td>\n",
       "      <td>28</td>\n",
       "      <td>black white film good photography believable c...</td>\n",
       "      <td>55</td>\n",
       "    </tr>\n",
       "    <tr>\n",
       "      <th>222</th>\n",
       "      <td>Howard (Kevin Kline) teaches English at the hi...</td>\n",
       "      <td>positive</td>\n",
       "      <td>1755</td>\n",
       "      <td>74</td>\n",
       "      <td>howard kevin kline teach english high school s...</td>\n",
       "      <td>158</td>\n",
       "    </tr>\n",
       "    <tr>\n",
       "      <th>12102</th>\n",
       "      <td>This was a romantic, simple funny movie. I rea...</td>\n",
       "      <td>positive</td>\n",
       "      <td>755</td>\n",
       "      <td>22</td>\n",
       "      <td>romantic simple funny movie really enjoyed wou...</td>\n",
       "      <td>71</td>\n",
       "    </tr>\n",
       "    <tr>\n",
       "      <th>12890</th>\n",
       "      <td>This movie is so daring it doesn't attempt to ...</td>\n",
       "      <td>negative</td>\n",
       "      <td>1851</td>\n",
       "      <td>59</td>\n",
       "      <td>movie daring  attempt hide similarity shining ...</td>\n",
       "      <td>164</td>\n",
       "    </tr>\n",
       "    <tr>\n",
       "      <th>1609</th>\n",
       "      <td>I have seen The Running Man several times as I...</td>\n",
       "      <td>positive</td>\n",
       "      <td>808</td>\n",
       "      <td>24</td>\n",
       "      <td>seen running man several time stephen king fan...</td>\n",
       "      <td>73</td>\n",
       "    </tr>\n",
       "  </tbody>\n",
       "</table>\n",
       "<p>10000 rows × 6 columns</p>\n",
       "</div>"
      ],
      "text/plain": [
       "                                                  review sentiment  length  \\\n",
       "10835  i really did not watch this show as often when...  positive    3745   \n",
       "45390  >>>>Author: msgreen-1 from Canada >>>>The big ...  positive    1121   \n",
       "49338  What's to like about this movie???<br /><br />...  negative    2211   \n",
       "21101  The opening scenes move as fluidly as frozen v...  negative     810   \n",
       "46652  Anastasia: The Mystery of Anna was a two-part ...  positive    1212   \n",
       "...                                                  ...       ...     ...   \n",
       "32771  Black and White film. Good photography. Believ...  negative     678   \n",
       "222    Howard (Kevin Kline) teaches English at the hi...  positive    1755   \n",
       "12102  This was a romantic, simple funny movie. I rea...  positive     755   \n",
       "12890  This movie is so daring it doesn't attempt to ...  negative    1851   \n",
       "1609   I have seen The Running Man several times as I...  positive     808   \n",
       "\n",
       "       spec_char                                     Cleaned_review  \\\n",
       "10835         77  really watch show often child first episode re...   \n",
       "45390        192  author msgreen canada big problem china syndro...   \n",
       "49338        169  like movie colour impressive underwater photog...   \n",
       "21101         17  opening scene move fluidly frozen velveeta att...   \n",
       "46652         43  anastasia mystery anna two part star studded h...   \n",
       "...          ...                                                ...   \n",
       "32771         28  black white film good photography believable c...   \n",
       "222           74  howard kevin kline teach english high school s...   \n",
       "12102         22  romantic simple funny movie really enjoyed wou...   \n",
       "12890         59  movie daring  attempt hide similarity shining ...   \n",
       "1609          24  seen running man several time stephen king fan...   \n",
       "\n",
       "       Cleaned_Words  \n",
       "10835            350  \n",
       "45390             89  \n",
       "49338            172  \n",
       "21101             73  \n",
       "46652            120  \n",
       "...              ...  \n",
       "32771             55  \n",
       "222              158  \n",
       "12102             71  \n",
       "12890            164  \n",
       "1609              73  \n",
       "\n",
       "[10000 rows x 6 columns]"
      ]
     },
     "execution_count": 32,
     "metadata": {},
     "output_type": "execute_result"
    }
   ],
   "source": [
    "df1"
   ]
  },
  {
   "cell_type": "code",
   "execution_count": 33,
   "id": "fe1450a2",
   "metadata": {},
   "outputs": [
    {
     "name": "stdout",
     "output_type": "stream",
     "text": [
      "The number of duplicates in data : 14\n"
     ]
    }
   ],
   "source": [
    "print(\"The number of duplicates in data :\",df1['Cleaned_review'].duplicated().sum())"
   ]
  },
  {
   "cell_type": "code",
   "execution_count": 34,
   "id": "8a0f8172",
   "metadata": {},
   "outputs": [],
   "source": [
    "df1=df1.drop_duplicates(subset=\"Cleaned_review\", keep=\"first\").reset_index(drop=True) #dropping duplicates"
   ]
  },
  {
   "cell_type": "code",
   "execution_count": 35,
   "id": "aea5fd25",
   "metadata": {},
   "outputs": [
    {
     "data": {
      "text/html": [
       "<div>\n",
       "<style scoped>\n",
       "    .dataframe tbody tr th:only-of-type {\n",
       "        vertical-align: middle;\n",
       "    }\n",
       "\n",
       "    .dataframe tbody tr th {\n",
       "        vertical-align: top;\n",
       "    }\n",
       "\n",
       "    .dataframe thead th {\n",
       "        text-align: right;\n",
       "    }\n",
       "</style>\n",
       "<table border=\"1\" class=\"dataframe\">\n",
       "  <thead>\n",
       "    <tr style=\"text-align: right;\">\n",
       "      <th></th>\n",
       "      <th>review</th>\n",
       "      <th>sentiment</th>\n",
       "      <th>length</th>\n",
       "      <th>spec_char</th>\n",
       "      <th>Cleaned_review</th>\n",
       "      <th>Cleaned_Words</th>\n",
       "    </tr>\n",
       "  </thead>\n",
       "  <tbody>\n",
       "    <tr>\n",
       "      <th>0</th>\n",
       "      <td>i really did not watch this show as often when...</td>\n",
       "      <td>positive</td>\n",
       "      <td>3745</td>\n",
       "      <td>77</td>\n",
       "      <td>really watch show often child first episode re...</td>\n",
       "      <td>350</td>\n",
       "    </tr>\n",
       "    <tr>\n",
       "      <th>1</th>\n",
       "      <td>&gt;&gt;&gt;&gt;Author: msgreen-1 from Canada &gt;&gt;&gt;&gt;The big ...</td>\n",
       "      <td>positive</td>\n",
       "      <td>1121</td>\n",
       "      <td>192</td>\n",
       "      <td>author msgreen canada big problem china syndro...</td>\n",
       "      <td>89</td>\n",
       "    </tr>\n",
       "    <tr>\n",
       "      <th>2</th>\n",
       "      <td>What's to like about this movie???&lt;br /&gt;&lt;br /&gt;...</td>\n",
       "      <td>negative</td>\n",
       "      <td>2211</td>\n",
       "      <td>169</td>\n",
       "      <td>like movie colour impressive underwater photog...</td>\n",
       "      <td>172</td>\n",
       "    </tr>\n",
       "    <tr>\n",
       "      <th>3</th>\n",
       "      <td>The opening scenes move as fluidly as frozen v...</td>\n",
       "      <td>negative</td>\n",
       "      <td>810</td>\n",
       "      <td>17</td>\n",
       "      <td>opening scene move fluidly frozen velveeta att...</td>\n",
       "      <td>73</td>\n",
       "    </tr>\n",
       "    <tr>\n",
       "      <th>4</th>\n",
       "      <td>Anastasia: The Mystery of Anna was a two-part ...</td>\n",
       "      <td>positive</td>\n",
       "      <td>1212</td>\n",
       "      <td>43</td>\n",
       "      <td>anastasia mystery anna two part star studded h...</td>\n",
       "      <td>120</td>\n",
       "    </tr>\n",
       "    <tr>\n",
       "      <th>...</th>\n",
       "      <td>...</td>\n",
       "      <td>...</td>\n",
       "      <td>...</td>\n",
       "      <td>...</td>\n",
       "      <td>...</td>\n",
       "      <td>...</td>\n",
       "    </tr>\n",
       "    <tr>\n",
       "      <th>9981</th>\n",
       "      <td>Black and White film. Good photography. Believ...</td>\n",
       "      <td>negative</td>\n",
       "      <td>678</td>\n",
       "      <td>28</td>\n",
       "      <td>black white film good photography believable c...</td>\n",
       "      <td>55</td>\n",
       "    </tr>\n",
       "    <tr>\n",
       "      <th>9982</th>\n",
       "      <td>Howard (Kevin Kline) teaches English at the hi...</td>\n",
       "      <td>positive</td>\n",
       "      <td>1755</td>\n",
       "      <td>74</td>\n",
       "      <td>howard kevin kline teach english high school s...</td>\n",
       "      <td>158</td>\n",
       "    </tr>\n",
       "    <tr>\n",
       "      <th>9983</th>\n",
       "      <td>This was a romantic, simple funny movie. I rea...</td>\n",
       "      <td>positive</td>\n",
       "      <td>755</td>\n",
       "      <td>22</td>\n",
       "      <td>romantic simple funny movie really enjoyed wou...</td>\n",
       "      <td>71</td>\n",
       "    </tr>\n",
       "    <tr>\n",
       "      <th>9984</th>\n",
       "      <td>This movie is so daring it doesn't attempt to ...</td>\n",
       "      <td>negative</td>\n",
       "      <td>1851</td>\n",
       "      <td>59</td>\n",
       "      <td>movie daring  attempt hide similarity shining ...</td>\n",
       "      <td>164</td>\n",
       "    </tr>\n",
       "    <tr>\n",
       "      <th>9985</th>\n",
       "      <td>I have seen The Running Man several times as I...</td>\n",
       "      <td>positive</td>\n",
       "      <td>808</td>\n",
       "      <td>24</td>\n",
       "      <td>seen running man several time stephen king fan...</td>\n",
       "      <td>73</td>\n",
       "    </tr>\n",
       "  </tbody>\n",
       "</table>\n",
       "<p>9986 rows × 6 columns</p>\n",
       "</div>"
      ],
      "text/plain": [
       "                                                 review sentiment  length  \\\n",
       "0     i really did not watch this show as often when...  positive    3745   \n",
       "1     >>>>Author: msgreen-1 from Canada >>>>The big ...  positive    1121   \n",
       "2     What's to like about this movie???<br /><br />...  negative    2211   \n",
       "3     The opening scenes move as fluidly as frozen v...  negative     810   \n",
       "4     Anastasia: The Mystery of Anna was a two-part ...  positive    1212   \n",
       "...                                                 ...       ...     ...   \n",
       "9981  Black and White film. Good photography. Believ...  negative     678   \n",
       "9982  Howard (Kevin Kline) teaches English at the hi...  positive    1755   \n",
       "9983  This was a romantic, simple funny movie. I rea...  positive     755   \n",
       "9984  This movie is so daring it doesn't attempt to ...  negative    1851   \n",
       "9985  I have seen The Running Man several times as I...  positive     808   \n",
       "\n",
       "      spec_char                                     Cleaned_review  \\\n",
       "0            77  really watch show often child first episode re...   \n",
       "1           192  author msgreen canada big problem china syndro...   \n",
       "2           169  like movie colour impressive underwater photog...   \n",
       "3            17  opening scene move fluidly frozen velveeta att...   \n",
       "4            43  anastasia mystery anna two part star studded h...   \n",
       "...         ...                                                ...   \n",
       "9981         28  black white film good photography believable c...   \n",
       "9982         74  howard kevin kline teach english high school s...   \n",
       "9983         22  romantic simple funny movie really enjoyed wou...   \n",
       "9984         59  movie daring  attempt hide similarity shining ...   \n",
       "9985         24  seen running man several time stephen king fan...   \n",
       "\n",
       "      Cleaned_Words  \n",
       "0               350  \n",
       "1                89  \n",
       "2               172  \n",
       "3                73  \n",
       "4               120  \n",
       "...             ...  \n",
       "9981             55  \n",
       "9982            158  \n",
       "9983             71  \n",
       "9984            164  \n",
       "9985             73  \n",
       "\n",
       "[9986 rows x 6 columns]"
      ]
     },
     "execution_count": 35,
     "metadata": {},
     "output_type": "execute_result"
    }
   ],
   "source": [
    "df1"
   ]
  },
  {
   "cell_type": "code",
   "execution_count": 36,
   "id": "3ec51ad6",
   "metadata": {},
   "outputs": [
    {
     "name": "stderr",
     "output_type": "stream",
     "text": [
      "[nltk_data] Downloading package vader_lexicon to\n",
      "[nltk_data]     C:\\Users\\dhruv\\AppData\\Roaming\\nltk_data...\n",
      "[nltk_data]   Package vader_lexicon is already up-to-date!\n"
     ]
    },
    {
     "data": {
      "text/plain": [
       "True"
      ]
     },
     "execution_count": 36,
     "metadata": {},
     "output_type": "execute_result"
    }
   ],
   "source": [
    "nltk.download('vader_lexicon')"
   ]
  },
  {
   "cell_type": "code",
   "execution_count": 37,
   "id": "b032b65a",
   "metadata": {},
   "outputs": [],
   "source": [
    "from vaderSentiment.vaderSentiment import SentimentIntensityAnalyzer"
   ]
  },
  {
   "cell_type": "code",
   "execution_count": 38,
   "id": "e4cce3b7",
   "metadata": {
    "scrolled": true
   },
   "outputs": [],
   "source": [
    "sia = SentimentIntensityAnalyzer()"
   ]
  },
  {
   "cell_type": "code",
   "execution_count": 39,
   "id": "bee73647",
   "metadata": {},
   "outputs": [
    {
     "data": {
      "text/plain": [
       "{'neg': 0.0, 'neu': 0.423, 'pos': 0.577, 'compound': 0.6249}"
      ]
     },
     "execution_count": 39,
     "metadata": {},
     "output_type": "execute_result"
    }
   ],
   "source": [
    "sia.polarity_scores(\"The film was awesome\")"
   ]
  },
  {
   "cell_type": "code",
   "execution_count": 40,
   "id": "2f0529b3",
   "metadata": {},
   "outputs": [],
   "source": [
    "df1[\"polarity_score\"] = df1[\"Cleaned_review\"].apply(lambda x: sia.polarity_scores(x)[\"compound\"])"
   ]
  },
  {
   "cell_type": "code",
   "execution_count": 41,
   "id": "1ae1dd34",
   "metadata": {},
   "outputs": [
    {
     "data": {
      "text/html": [
       "<div>\n",
       "<style scoped>\n",
       "    .dataframe tbody tr th:only-of-type {\n",
       "        vertical-align: middle;\n",
       "    }\n",
       "\n",
       "    .dataframe tbody tr th {\n",
       "        vertical-align: top;\n",
       "    }\n",
       "\n",
       "    .dataframe thead th {\n",
       "        text-align: right;\n",
       "    }\n",
       "</style>\n",
       "<table border=\"1\" class=\"dataframe\">\n",
       "  <thead>\n",
       "    <tr style=\"text-align: right;\">\n",
       "      <th></th>\n",
       "      <th>review</th>\n",
       "      <th>sentiment</th>\n",
       "      <th>length</th>\n",
       "      <th>spec_char</th>\n",
       "      <th>Cleaned_review</th>\n",
       "      <th>Cleaned_Words</th>\n",
       "      <th>polarity_score</th>\n",
       "    </tr>\n",
       "  </thead>\n",
       "  <tbody>\n",
       "    <tr>\n",
       "      <th>0</th>\n",
       "      <td>i really did not watch this show as often when...</td>\n",
       "      <td>positive</td>\n",
       "      <td>3745</td>\n",
       "      <td>77</td>\n",
       "      <td>really watch show often child first episode re...</td>\n",
       "      <td>350</td>\n",
       "      <td>0.9956</td>\n",
       "    </tr>\n",
       "    <tr>\n",
       "      <th>1</th>\n",
       "      <td>&gt;&gt;&gt;&gt;Author: msgreen-1 from Canada &gt;&gt;&gt;&gt;The big ...</td>\n",
       "      <td>positive</td>\n",
       "      <td>1121</td>\n",
       "      <td>192</td>\n",
       "      <td>author msgreen canada big problem china syndro...</td>\n",
       "      <td>89</td>\n",
       "      <td>-0.0516</td>\n",
       "    </tr>\n",
       "    <tr>\n",
       "      <th>2</th>\n",
       "      <td>What's to like about this movie???&lt;br /&gt;&lt;br /&gt;...</td>\n",
       "      <td>negative</td>\n",
       "      <td>2211</td>\n",
       "      <td>169</td>\n",
       "      <td>like movie colour impressive underwater photog...</td>\n",
       "      <td>172</td>\n",
       "      <td>0.9432</td>\n",
       "    </tr>\n",
       "    <tr>\n",
       "      <th>3</th>\n",
       "      <td>The opening scenes move as fluidly as frozen v...</td>\n",
       "      <td>negative</td>\n",
       "      <td>810</td>\n",
       "      <td>17</td>\n",
       "      <td>opening scene move fluidly frozen velveeta att...</td>\n",
       "      <td>73</td>\n",
       "      <td>0.4767</td>\n",
       "    </tr>\n",
       "    <tr>\n",
       "      <th>4</th>\n",
       "      <td>Anastasia: The Mystery of Anna was a two-part ...</td>\n",
       "      <td>positive</td>\n",
       "      <td>1212</td>\n",
       "      <td>43</td>\n",
       "      <td>anastasia mystery anna two part star studded h...</td>\n",
       "      <td>120</td>\n",
       "      <td>0.9684</td>\n",
       "    </tr>\n",
       "    <tr>\n",
       "      <th>...</th>\n",
       "      <td>...</td>\n",
       "      <td>...</td>\n",
       "      <td>...</td>\n",
       "      <td>...</td>\n",
       "      <td>...</td>\n",
       "      <td>...</td>\n",
       "      <td>...</td>\n",
       "    </tr>\n",
       "    <tr>\n",
       "      <th>9981</th>\n",
       "      <td>Black and White film. Good photography. Believ...</td>\n",
       "      <td>negative</td>\n",
       "      <td>678</td>\n",
       "      <td>28</td>\n",
       "      <td>black white film good photography believable c...</td>\n",
       "      <td>55</td>\n",
       "      <td>0.7488</td>\n",
       "    </tr>\n",
       "    <tr>\n",
       "      <th>9982</th>\n",
       "      <td>Howard (Kevin Kline) teaches English at the hi...</td>\n",
       "      <td>positive</td>\n",
       "      <td>1755</td>\n",
       "      <td>74</td>\n",
       "      <td>howard kevin kline teach english high school s...</td>\n",
       "      <td>158</td>\n",
       "      <td>0.9978</td>\n",
       "    </tr>\n",
       "    <tr>\n",
       "      <th>9983</th>\n",
       "      <td>This was a romantic, simple funny movie. I rea...</td>\n",
       "      <td>positive</td>\n",
       "      <td>755</td>\n",
       "      <td>22</td>\n",
       "      <td>romantic simple funny movie really enjoyed wou...</td>\n",
       "      <td>71</td>\n",
       "      <td>0.9946</td>\n",
       "    </tr>\n",
       "    <tr>\n",
       "      <th>9984</th>\n",
       "      <td>This movie is so daring it doesn't attempt to ...</td>\n",
       "      <td>negative</td>\n",
       "      <td>1851</td>\n",
       "      <td>59</td>\n",
       "      <td>movie daring  attempt hide similarity shining ...</td>\n",
       "      <td>164</td>\n",
       "      <td>-0.9322</td>\n",
       "    </tr>\n",
       "    <tr>\n",
       "      <th>9985</th>\n",
       "      <td>I have seen The Running Man several times as I...</td>\n",
       "      <td>positive</td>\n",
       "      <td>808</td>\n",
       "      <td>24</td>\n",
       "      <td>seen running man several time stephen king fan...</td>\n",
       "      <td>73</td>\n",
       "      <td>0.0090</td>\n",
       "    </tr>\n",
       "  </tbody>\n",
       "</table>\n",
       "<p>9986 rows × 7 columns</p>\n",
       "</div>"
      ],
      "text/plain": [
       "                                                 review sentiment  length  \\\n",
       "0     i really did not watch this show as often when...  positive    3745   \n",
       "1     >>>>Author: msgreen-1 from Canada >>>>The big ...  positive    1121   \n",
       "2     What's to like about this movie???<br /><br />...  negative    2211   \n",
       "3     The opening scenes move as fluidly as frozen v...  negative     810   \n",
       "4     Anastasia: The Mystery of Anna was a two-part ...  positive    1212   \n",
       "...                                                 ...       ...     ...   \n",
       "9981  Black and White film. Good photography. Believ...  negative     678   \n",
       "9982  Howard (Kevin Kline) teaches English at the hi...  positive    1755   \n",
       "9983  This was a romantic, simple funny movie. I rea...  positive     755   \n",
       "9984  This movie is so daring it doesn't attempt to ...  negative    1851   \n",
       "9985  I have seen The Running Man several times as I...  positive     808   \n",
       "\n",
       "      spec_char                                     Cleaned_review  \\\n",
       "0            77  really watch show often child first episode re...   \n",
       "1           192  author msgreen canada big problem china syndro...   \n",
       "2           169  like movie colour impressive underwater photog...   \n",
       "3            17  opening scene move fluidly frozen velveeta att...   \n",
       "4            43  anastasia mystery anna two part star studded h...   \n",
       "...         ...                                                ...   \n",
       "9981         28  black white film good photography believable c...   \n",
       "9982         74  howard kevin kline teach english high school s...   \n",
       "9983         22  romantic simple funny movie really enjoyed wou...   \n",
       "9984         59  movie daring  attempt hide similarity shining ...   \n",
       "9985         24  seen running man several time stephen king fan...   \n",
       "\n",
       "      Cleaned_Words  polarity_score  \n",
       "0               350          0.9956  \n",
       "1                89         -0.0516  \n",
       "2               172          0.9432  \n",
       "3                73          0.4767  \n",
       "4               120          0.9684  \n",
       "...             ...             ...  \n",
       "9981             55          0.7488  \n",
       "9982            158          0.9978  \n",
       "9983             71          0.9946  \n",
       "9984            164         -0.9322  \n",
       "9985             73          0.0090  \n",
       "\n",
       "[9986 rows x 7 columns]"
      ]
     },
     "execution_count": 41,
     "metadata": {},
     "output_type": "execute_result"
    }
   ],
   "source": [
    "df1"
   ]
  },
  {
   "cell_type": "code",
   "execution_count": 42,
   "id": "c40624f9",
   "metadata": {},
   "outputs": [],
   "source": [
    "df1[\"sentiment_label\"] = df1[\"Cleaned_review\"].apply(lambda x: \"pos\" if sia.polarity_scores(x)[\"compound\"] > 0 else \"neg\")"
   ]
  },
  {
   "cell_type": "code",
   "execution_count": 43,
   "id": "53b8a654",
   "metadata": {},
   "outputs": [
    {
     "data": {
      "text/html": [
       "<div>\n",
       "<style scoped>\n",
       "    .dataframe tbody tr th:only-of-type {\n",
       "        vertical-align: middle;\n",
       "    }\n",
       "\n",
       "    .dataframe tbody tr th {\n",
       "        vertical-align: top;\n",
       "    }\n",
       "\n",
       "    .dataframe thead th {\n",
       "        text-align: right;\n",
       "    }\n",
       "</style>\n",
       "<table border=\"1\" class=\"dataframe\">\n",
       "  <thead>\n",
       "    <tr style=\"text-align: right;\">\n",
       "      <th></th>\n",
       "      <th>review</th>\n",
       "      <th>sentiment</th>\n",
       "      <th>length</th>\n",
       "      <th>spec_char</th>\n",
       "      <th>Cleaned_review</th>\n",
       "      <th>Cleaned_Words</th>\n",
       "      <th>polarity_score</th>\n",
       "      <th>sentiment_label</th>\n",
       "    </tr>\n",
       "  </thead>\n",
       "  <tbody>\n",
       "    <tr>\n",
       "      <th>0</th>\n",
       "      <td>i really did not watch this show as often when...</td>\n",
       "      <td>positive</td>\n",
       "      <td>3745</td>\n",
       "      <td>77</td>\n",
       "      <td>really watch show often child first episode re...</td>\n",
       "      <td>350</td>\n",
       "      <td>0.9956</td>\n",
       "      <td>pos</td>\n",
       "    </tr>\n",
       "    <tr>\n",
       "      <th>1</th>\n",
       "      <td>&gt;&gt;&gt;&gt;Author: msgreen-1 from Canada &gt;&gt;&gt;&gt;The big ...</td>\n",
       "      <td>positive</td>\n",
       "      <td>1121</td>\n",
       "      <td>192</td>\n",
       "      <td>author msgreen canada big problem china syndro...</td>\n",
       "      <td>89</td>\n",
       "      <td>-0.0516</td>\n",
       "      <td>neg</td>\n",
       "    </tr>\n",
       "    <tr>\n",
       "      <th>2</th>\n",
       "      <td>What's to like about this movie???&lt;br /&gt;&lt;br /&gt;...</td>\n",
       "      <td>negative</td>\n",
       "      <td>2211</td>\n",
       "      <td>169</td>\n",
       "      <td>like movie colour impressive underwater photog...</td>\n",
       "      <td>172</td>\n",
       "      <td>0.9432</td>\n",
       "      <td>pos</td>\n",
       "    </tr>\n",
       "    <tr>\n",
       "      <th>3</th>\n",
       "      <td>The opening scenes move as fluidly as frozen v...</td>\n",
       "      <td>negative</td>\n",
       "      <td>810</td>\n",
       "      <td>17</td>\n",
       "      <td>opening scene move fluidly frozen velveeta att...</td>\n",
       "      <td>73</td>\n",
       "      <td>0.4767</td>\n",
       "      <td>pos</td>\n",
       "    </tr>\n",
       "    <tr>\n",
       "      <th>4</th>\n",
       "      <td>Anastasia: The Mystery of Anna was a two-part ...</td>\n",
       "      <td>positive</td>\n",
       "      <td>1212</td>\n",
       "      <td>43</td>\n",
       "      <td>anastasia mystery anna two part star studded h...</td>\n",
       "      <td>120</td>\n",
       "      <td>0.9684</td>\n",
       "      <td>pos</td>\n",
       "    </tr>\n",
       "    <tr>\n",
       "      <th>...</th>\n",
       "      <td>...</td>\n",
       "      <td>...</td>\n",
       "      <td>...</td>\n",
       "      <td>...</td>\n",
       "      <td>...</td>\n",
       "      <td>...</td>\n",
       "      <td>...</td>\n",
       "      <td>...</td>\n",
       "    </tr>\n",
       "    <tr>\n",
       "      <th>9981</th>\n",
       "      <td>Black and White film. Good photography. Believ...</td>\n",
       "      <td>negative</td>\n",
       "      <td>678</td>\n",
       "      <td>28</td>\n",
       "      <td>black white film good photography believable c...</td>\n",
       "      <td>55</td>\n",
       "      <td>0.7488</td>\n",
       "      <td>pos</td>\n",
       "    </tr>\n",
       "    <tr>\n",
       "      <th>9982</th>\n",
       "      <td>Howard (Kevin Kline) teaches English at the hi...</td>\n",
       "      <td>positive</td>\n",
       "      <td>1755</td>\n",
       "      <td>74</td>\n",
       "      <td>howard kevin kline teach english high school s...</td>\n",
       "      <td>158</td>\n",
       "      <td>0.9978</td>\n",
       "      <td>pos</td>\n",
       "    </tr>\n",
       "    <tr>\n",
       "      <th>9983</th>\n",
       "      <td>This was a romantic, simple funny movie. I rea...</td>\n",
       "      <td>positive</td>\n",
       "      <td>755</td>\n",
       "      <td>22</td>\n",
       "      <td>romantic simple funny movie really enjoyed wou...</td>\n",
       "      <td>71</td>\n",
       "      <td>0.9946</td>\n",
       "      <td>pos</td>\n",
       "    </tr>\n",
       "    <tr>\n",
       "      <th>9984</th>\n",
       "      <td>This movie is so daring it doesn't attempt to ...</td>\n",
       "      <td>negative</td>\n",
       "      <td>1851</td>\n",
       "      <td>59</td>\n",
       "      <td>movie daring  attempt hide similarity shining ...</td>\n",
       "      <td>164</td>\n",
       "      <td>-0.9322</td>\n",
       "      <td>neg</td>\n",
       "    </tr>\n",
       "    <tr>\n",
       "      <th>9985</th>\n",
       "      <td>I have seen The Running Man several times as I...</td>\n",
       "      <td>positive</td>\n",
       "      <td>808</td>\n",
       "      <td>24</td>\n",
       "      <td>seen running man several time stephen king fan...</td>\n",
       "      <td>73</td>\n",
       "      <td>0.0090</td>\n",
       "      <td>pos</td>\n",
       "    </tr>\n",
       "  </tbody>\n",
       "</table>\n",
       "<p>9986 rows × 8 columns</p>\n",
       "</div>"
      ],
      "text/plain": [
       "                                                 review sentiment  length  \\\n",
       "0     i really did not watch this show as often when...  positive    3745   \n",
       "1     >>>>Author: msgreen-1 from Canada >>>>The big ...  positive    1121   \n",
       "2     What's to like about this movie???<br /><br />...  negative    2211   \n",
       "3     The opening scenes move as fluidly as frozen v...  negative     810   \n",
       "4     Anastasia: The Mystery of Anna was a two-part ...  positive    1212   \n",
       "...                                                 ...       ...     ...   \n",
       "9981  Black and White film. Good photography. Believ...  negative     678   \n",
       "9982  Howard (Kevin Kline) teaches English at the hi...  positive    1755   \n",
       "9983  This was a romantic, simple funny movie. I rea...  positive     755   \n",
       "9984  This movie is so daring it doesn't attempt to ...  negative    1851   \n",
       "9985  I have seen The Running Man several times as I...  positive     808   \n",
       "\n",
       "      spec_char                                     Cleaned_review  \\\n",
       "0            77  really watch show often child first episode re...   \n",
       "1           192  author msgreen canada big problem china syndro...   \n",
       "2           169  like movie colour impressive underwater photog...   \n",
       "3            17  opening scene move fluidly frozen velveeta att...   \n",
       "4            43  anastasia mystery anna two part star studded h...   \n",
       "...         ...                                                ...   \n",
       "9981         28  black white film good photography believable c...   \n",
       "9982         74  howard kevin kline teach english high school s...   \n",
       "9983         22  romantic simple funny movie really enjoyed wou...   \n",
       "9984         59  movie daring  attempt hide similarity shining ...   \n",
       "9985         24  seen running man several time stephen king fan...   \n",
       "\n",
       "      Cleaned_Words  polarity_score sentiment_label  \n",
       "0               350          0.9956             pos  \n",
       "1                89         -0.0516             neg  \n",
       "2               172          0.9432             pos  \n",
       "3                73          0.4767             pos  \n",
       "4               120          0.9684             pos  \n",
       "...             ...             ...             ...  \n",
       "9981             55          0.7488             pos  \n",
       "9982            158          0.9978             pos  \n",
       "9983             71          0.9946             pos  \n",
       "9984            164         -0.9322             neg  \n",
       "9985             73          0.0090             pos  \n",
       "\n",
       "[9986 rows x 8 columns]"
      ]
     },
     "execution_count": 43,
     "metadata": {},
     "output_type": "execute_result"
    }
   ],
   "source": [
    "df1"
   ]
  },
  {
   "cell_type": "code",
   "execution_count": 44,
   "id": "a87962dd",
   "metadata": {},
   "outputs": [
    {
     "data": {
      "text/html": [
       "<div>\n",
       "<style scoped>\n",
       "    .dataframe tbody tr th:only-of-type {\n",
       "        vertical-align: middle;\n",
       "    }\n",
       "\n",
       "    .dataframe tbody tr th {\n",
       "        vertical-align: top;\n",
       "    }\n",
       "\n",
       "    .dataframe thead th {\n",
       "        text-align: right;\n",
       "    }\n",
       "</style>\n",
       "<table border=\"1\" class=\"dataframe\">\n",
       "  <thead>\n",
       "    <tr style=\"text-align: right;\">\n",
       "      <th></th>\n",
       "      <th>review</th>\n",
       "      <th>length</th>\n",
       "      <th>spec_char</th>\n",
       "      <th>Cleaned_review</th>\n",
       "      <th>Cleaned_Words</th>\n",
       "      <th>polarity_score</th>\n",
       "      <th>sentiment_label</th>\n",
       "    </tr>\n",
       "  </thead>\n",
       "  <tbody>\n",
       "    <tr>\n",
       "      <th>0</th>\n",
       "      <td>i really did not watch this show as often when...</td>\n",
       "      <td>3745</td>\n",
       "      <td>77</td>\n",
       "      <td>really watch show often child first episode re...</td>\n",
       "      <td>350</td>\n",
       "      <td>0.9956</td>\n",
       "      <td>pos</td>\n",
       "    </tr>\n",
       "    <tr>\n",
       "      <th>1</th>\n",
       "      <td>&gt;&gt;&gt;&gt;Author: msgreen-1 from Canada &gt;&gt;&gt;&gt;The big ...</td>\n",
       "      <td>1121</td>\n",
       "      <td>192</td>\n",
       "      <td>author msgreen canada big problem china syndro...</td>\n",
       "      <td>89</td>\n",
       "      <td>-0.0516</td>\n",
       "      <td>neg</td>\n",
       "    </tr>\n",
       "    <tr>\n",
       "      <th>2</th>\n",
       "      <td>What's to like about this movie???&lt;br /&gt;&lt;br /&gt;...</td>\n",
       "      <td>2211</td>\n",
       "      <td>169</td>\n",
       "      <td>like movie colour impressive underwater photog...</td>\n",
       "      <td>172</td>\n",
       "      <td>0.9432</td>\n",
       "      <td>pos</td>\n",
       "    </tr>\n",
       "    <tr>\n",
       "      <th>3</th>\n",
       "      <td>The opening scenes move as fluidly as frozen v...</td>\n",
       "      <td>810</td>\n",
       "      <td>17</td>\n",
       "      <td>opening scene move fluidly frozen velveeta att...</td>\n",
       "      <td>73</td>\n",
       "      <td>0.4767</td>\n",
       "      <td>pos</td>\n",
       "    </tr>\n",
       "    <tr>\n",
       "      <th>4</th>\n",
       "      <td>Anastasia: The Mystery of Anna was a two-part ...</td>\n",
       "      <td>1212</td>\n",
       "      <td>43</td>\n",
       "      <td>anastasia mystery anna two part star studded h...</td>\n",
       "      <td>120</td>\n",
       "      <td>0.9684</td>\n",
       "      <td>pos</td>\n",
       "    </tr>\n",
       "    <tr>\n",
       "      <th>...</th>\n",
       "      <td>...</td>\n",
       "      <td>...</td>\n",
       "      <td>...</td>\n",
       "      <td>...</td>\n",
       "      <td>...</td>\n",
       "      <td>...</td>\n",
       "      <td>...</td>\n",
       "    </tr>\n",
       "    <tr>\n",
       "      <th>9981</th>\n",
       "      <td>Black and White film. Good photography. Believ...</td>\n",
       "      <td>678</td>\n",
       "      <td>28</td>\n",
       "      <td>black white film good photography believable c...</td>\n",
       "      <td>55</td>\n",
       "      <td>0.7488</td>\n",
       "      <td>pos</td>\n",
       "    </tr>\n",
       "    <tr>\n",
       "      <th>9982</th>\n",
       "      <td>Howard (Kevin Kline) teaches English at the hi...</td>\n",
       "      <td>1755</td>\n",
       "      <td>74</td>\n",
       "      <td>howard kevin kline teach english high school s...</td>\n",
       "      <td>158</td>\n",
       "      <td>0.9978</td>\n",
       "      <td>pos</td>\n",
       "    </tr>\n",
       "    <tr>\n",
       "      <th>9983</th>\n",
       "      <td>This was a romantic, simple funny movie. I rea...</td>\n",
       "      <td>755</td>\n",
       "      <td>22</td>\n",
       "      <td>romantic simple funny movie really enjoyed wou...</td>\n",
       "      <td>71</td>\n",
       "      <td>0.9946</td>\n",
       "      <td>pos</td>\n",
       "    </tr>\n",
       "    <tr>\n",
       "      <th>9984</th>\n",
       "      <td>This movie is so daring it doesn't attempt to ...</td>\n",
       "      <td>1851</td>\n",
       "      <td>59</td>\n",
       "      <td>movie daring  attempt hide similarity shining ...</td>\n",
       "      <td>164</td>\n",
       "      <td>-0.9322</td>\n",
       "      <td>neg</td>\n",
       "    </tr>\n",
       "    <tr>\n",
       "      <th>9985</th>\n",
       "      <td>I have seen The Running Man several times as I...</td>\n",
       "      <td>808</td>\n",
       "      <td>24</td>\n",
       "      <td>seen running man several time stephen king fan...</td>\n",
       "      <td>73</td>\n",
       "      <td>0.0090</td>\n",
       "      <td>pos</td>\n",
       "    </tr>\n",
       "  </tbody>\n",
       "</table>\n",
       "<p>9986 rows × 7 columns</p>\n",
       "</div>"
      ],
      "text/plain": [
       "                                                 review  length  spec_char  \\\n",
       "0     i really did not watch this show as often when...    3745         77   \n",
       "1     >>>>Author: msgreen-1 from Canada >>>>The big ...    1121        192   \n",
       "2     What's to like about this movie???<br /><br />...    2211        169   \n",
       "3     The opening scenes move as fluidly as frozen v...     810         17   \n",
       "4     Anastasia: The Mystery of Anna was a two-part ...    1212         43   \n",
       "...                                                 ...     ...        ...   \n",
       "9981  Black and White film. Good photography. Believ...     678         28   \n",
       "9982  Howard (Kevin Kline) teaches English at the hi...    1755         74   \n",
       "9983  This was a romantic, simple funny movie. I rea...     755         22   \n",
       "9984  This movie is so daring it doesn't attempt to ...    1851         59   \n",
       "9985  I have seen The Running Man several times as I...     808         24   \n",
       "\n",
       "                                         Cleaned_review  Cleaned_Words  \\\n",
       "0     really watch show often child first episode re...            350   \n",
       "1     author msgreen canada big problem china syndro...             89   \n",
       "2     like movie colour impressive underwater photog...            172   \n",
       "3     opening scene move fluidly frozen velveeta att...             73   \n",
       "4     anastasia mystery anna two part star studded h...            120   \n",
       "...                                                 ...            ...   \n",
       "9981  black white film good photography believable c...             55   \n",
       "9982  howard kevin kline teach english high school s...            158   \n",
       "9983  romantic simple funny movie really enjoyed wou...             71   \n",
       "9984  movie daring  attempt hide similarity shining ...            164   \n",
       "9985  seen running man several time stephen king fan...             73   \n",
       "\n",
       "      polarity_score sentiment_label  \n",
       "0             0.9956             pos  \n",
       "1            -0.0516             neg  \n",
       "2             0.9432             pos  \n",
       "3             0.4767             pos  \n",
       "4             0.9684             pos  \n",
       "...              ...             ...  \n",
       "9981          0.7488             pos  \n",
       "9982          0.9978             pos  \n",
       "9983          0.9946             pos  \n",
       "9984         -0.9322             neg  \n",
       "9985          0.0090             pos  \n",
       "\n",
       "[9986 rows x 7 columns]"
      ]
     },
     "execution_count": 44,
     "metadata": {},
     "output_type": "execute_result"
    }
   ],
   "source": [
    "df1.drop(['sentiment'],axis=1)"
   ]
  },
  {
   "cell_type": "code",
   "execution_count": 45,
   "id": "d47d3fad",
   "metadata": {},
   "outputs": [],
   "source": [
    "from sklearn.preprocessing import LabelEncoder"
   ]
  },
  {
   "cell_type": "code",
   "execution_count": 46,
   "id": "b66e5e34",
   "metadata": {},
   "outputs": [],
   "source": [
    "df1[\"sentiment_label\"] = LabelEncoder().fit_transform(df1[\"sentiment_label\"])"
   ]
  },
  {
   "cell_type": "code",
   "execution_count": 47,
   "id": "6ed53983",
   "metadata": {},
   "outputs": [
    {
     "data": {
      "text/html": [
       "<div>\n",
       "<style scoped>\n",
       "    .dataframe tbody tr th:only-of-type {\n",
       "        vertical-align: middle;\n",
       "    }\n",
       "\n",
       "    .dataframe tbody tr th {\n",
       "        vertical-align: top;\n",
       "    }\n",
       "\n",
       "    .dataframe thead th {\n",
       "        text-align: right;\n",
       "    }\n",
       "</style>\n",
       "<table border=\"1\" class=\"dataframe\">\n",
       "  <thead>\n",
       "    <tr style=\"text-align: right;\">\n",
       "      <th></th>\n",
       "      <th>review</th>\n",
       "      <th>sentiment</th>\n",
       "      <th>length</th>\n",
       "      <th>spec_char</th>\n",
       "      <th>Cleaned_review</th>\n",
       "      <th>Cleaned_Words</th>\n",
       "      <th>polarity_score</th>\n",
       "      <th>sentiment_label</th>\n",
       "    </tr>\n",
       "  </thead>\n",
       "  <tbody>\n",
       "    <tr>\n",
       "      <th>0</th>\n",
       "      <td>i really did not watch this show as often when...</td>\n",
       "      <td>positive</td>\n",
       "      <td>3745</td>\n",
       "      <td>77</td>\n",
       "      <td>really watch show often child first episode re...</td>\n",
       "      <td>350</td>\n",
       "      <td>0.9956</td>\n",
       "      <td>1</td>\n",
       "    </tr>\n",
       "    <tr>\n",
       "      <th>1</th>\n",
       "      <td>&gt;&gt;&gt;&gt;Author: msgreen-1 from Canada &gt;&gt;&gt;&gt;The big ...</td>\n",
       "      <td>positive</td>\n",
       "      <td>1121</td>\n",
       "      <td>192</td>\n",
       "      <td>author msgreen canada big problem china syndro...</td>\n",
       "      <td>89</td>\n",
       "      <td>-0.0516</td>\n",
       "      <td>0</td>\n",
       "    </tr>\n",
       "    <tr>\n",
       "      <th>2</th>\n",
       "      <td>What's to like about this movie???&lt;br /&gt;&lt;br /&gt;...</td>\n",
       "      <td>negative</td>\n",
       "      <td>2211</td>\n",
       "      <td>169</td>\n",
       "      <td>like movie colour impressive underwater photog...</td>\n",
       "      <td>172</td>\n",
       "      <td>0.9432</td>\n",
       "      <td>1</td>\n",
       "    </tr>\n",
       "    <tr>\n",
       "      <th>3</th>\n",
       "      <td>The opening scenes move as fluidly as frozen v...</td>\n",
       "      <td>negative</td>\n",
       "      <td>810</td>\n",
       "      <td>17</td>\n",
       "      <td>opening scene move fluidly frozen velveeta att...</td>\n",
       "      <td>73</td>\n",
       "      <td>0.4767</td>\n",
       "      <td>1</td>\n",
       "    </tr>\n",
       "    <tr>\n",
       "      <th>4</th>\n",
       "      <td>Anastasia: The Mystery of Anna was a two-part ...</td>\n",
       "      <td>positive</td>\n",
       "      <td>1212</td>\n",
       "      <td>43</td>\n",
       "      <td>anastasia mystery anna two part star studded h...</td>\n",
       "      <td>120</td>\n",
       "      <td>0.9684</td>\n",
       "      <td>1</td>\n",
       "    </tr>\n",
       "    <tr>\n",
       "      <th>...</th>\n",
       "      <td>...</td>\n",
       "      <td>...</td>\n",
       "      <td>...</td>\n",
       "      <td>...</td>\n",
       "      <td>...</td>\n",
       "      <td>...</td>\n",
       "      <td>...</td>\n",
       "      <td>...</td>\n",
       "    </tr>\n",
       "    <tr>\n",
       "      <th>9981</th>\n",
       "      <td>Black and White film. Good photography. Believ...</td>\n",
       "      <td>negative</td>\n",
       "      <td>678</td>\n",
       "      <td>28</td>\n",
       "      <td>black white film good photography believable c...</td>\n",
       "      <td>55</td>\n",
       "      <td>0.7488</td>\n",
       "      <td>1</td>\n",
       "    </tr>\n",
       "    <tr>\n",
       "      <th>9982</th>\n",
       "      <td>Howard (Kevin Kline) teaches English at the hi...</td>\n",
       "      <td>positive</td>\n",
       "      <td>1755</td>\n",
       "      <td>74</td>\n",
       "      <td>howard kevin kline teach english high school s...</td>\n",
       "      <td>158</td>\n",
       "      <td>0.9978</td>\n",
       "      <td>1</td>\n",
       "    </tr>\n",
       "    <tr>\n",
       "      <th>9983</th>\n",
       "      <td>This was a romantic, simple funny movie. I rea...</td>\n",
       "      <td>positive</td>\n",
       "      <td>755</td>\n",
       "      <td>22</td>\n",
       "      <td>romantic simple funny movie really enjoyed wou...</td>\n",
       "      <td>71</td>\n",
       "      <td>0.9946</td>\n",
       "      <td>1</td>\n",
       "    </tr>\n",
       "    <tr>\n",
       "      <th>9984</th>\n",
       "      <td>This movie is so daring it doesn't attempt to ...</td>\n",
       "      <td>negative</td>\n",
       "      <td>1851</td>\n",
       "      <td>59</td>\n",
       "      <td>movie daring  attempt hide similarity shining ...</td>\n",
       "      <td>164</td>\n",
       "      <td>-0.9322</td>\n",
       "      <td>0</td>\n",
       "    </tr>\n",
       "    <tr>\n",
       "      <th>9985</th>\n",
       "      <td>I have seen The Running Man several times as I...</td>\n",
       "      <td>positive</td>\n",
       "      <td>808</td>\n",
       "      <td>24</td>\n",
       "      <td>seen running man several time stephen king fan...</td>\n",
       "      <td>73</td>\n",
       "      <td>0.0090</td>\n",
       "      <td>1</td>\n",
       "    </tr>\n",
       "  </tbody>\n",
       "</table>\n",
       "<p>9986 rows × 8 columns</p>\n",
       "</div>"
      ],
      "text/plain": [
       "                                                 review sentiment  length  \\\n",
       "0     i really did not watch this show as often when...  positive    3745   \n",
       "1     >>>>Author: msgreen-1 from Canada >>>>The big ...  positive    1121   \n",
       "2     What's to like about this movie???<br /><br />...  negative    2211   \n",
       "3     The opening scenes move as fluidly as frozen v...  negative     810   \n",
       "4     Anastasia: The Mystery of Anna was a two-part ...  positive    1212   \n",
       "...                                                 ...       ...     ...   \n",
       "9981  Black and White film. Good photography. Believ...  negative     678   \n",
       "9982  Howard (Kevin Kline) teaches English at the hi...  positive    1755   \n",
       "9983  This was a romantic, simple funny movie. I rea...  positive     755   \n",
       "9984  This movie is so daring it doesn't attempt to ...  negative    1851   \n",
       "9985  I have seen The Running Man several times as I...  positive     808   \n",
       "\n",
       "      spec_char                                     Cleaned_review  \\\n",
       "0            77  really watch show often child first episode re...   \n",
       "1           192  author msgreen canada big problem china syndro...   \n",
       "2           169  like movie colour impressive underwater photog...   \n",
       "3            17  opening scene move fluidly frozen velveeta att...   \n",
       "4            43  anastasia mystery anna two part star studded h...   \n",
       "...         ...                                                ...   \n",
       "9981         28  black white film good photography believable c...   \n",
       "9982         74  howard kevin kline teach english high school s...   \n",
       "9983         22  romantic simple funny movie really enjoyed wou...   \n",
       "9984         59  movie daring  attempt hide similarity shining ...   \n",
       "9985         24  seen running man several time stephen king fan...   \n",
       "\n",
       "      Cleaned_Words  polarity_score  sentiment_label  \n",
       "0               350          0.9956                1  \n",
       "1                89         -0.0516                0  \n",
       "2               172          0.9432                1  \n",
       "3                73          0.4767                1  \n",
       "4               120          0.9684                1  \n",
       "...             ...             ...              ...  \n",
       "9981             55          0.7488                1  \n",
       "9982            158          0.9978                1  \n",
       "9983             71          0.9946                1  \n",
       "9984            164         -0.9322                0  \n",
       "9985             73          0.0090                1  \n",
       "\n",
       "[9986 rows x 8 columns]"
      ]
     },
     "execution_count": 47,
     "metadata": {},
     "output_type": "execute_result"
    }
   ],
   "source": [
    "df1"
   ]
  },
  {
   "cell_type": "code",
   "execution_count": 48,
   "id": "5b73f5e3",
   "metadata": {},
   "outputs": [],
   "source": [
    "y = df1[\"sentiment_label\"]\n",
    "x = df1[\"Cleaned_review\"]"
   ]
  },
  {
   "cell_type": "code",
   "execution_count": 49,
   "id": "b5ee2ce0",
   "metadata": {},
   "outputs": [],
   "source": [
    "from sklearn.feature_extraction.text import TfidfVectorizer"
   ]
  },
  {
   "cell_type": "code",
   "execution_count": 50,
   "id": "d7e1ed15",
   "metadata": {},
   "outputs": [],
   "source": [
    "vectorizer = CountVectorizer()\n",
    "X = vectorizer.fit_transform(x)"
   ]
  },
  {
   "cell_type": "code",
   "execution_count": 51,
   "id": "1c16be5a",
   "metadata": {},
   "outputs": [],
   "source": [
    "from sklearn.model_selection import cross_val_score, GridSearchCV, cross_validate"
   ]
  },
  {
   "cell_type": "code",
   "execution_count": 52,
   "id": "b0f1e604",
   "metadata": {},
   "outputs": [],
   "source": [
    "from sklearn.linear_model import LogisticRegression\n",
    "from sklearn.ensemble import RandomForestClassifier\n",
    "from sklearn.svm import SVC\n",
    "from sklearn.tree import DecisionTreeClassifier\n",
    "from sklearn.naive_bayes import MultinomialNB\n"
   ]
  },
  {
   "cell_type": "markdown",
   "id": "cbed1a68",
   "metadata": {},
   "source": [
    "## Multinomial naive bayes"
   ]
  },
  {
   "cell_type": "code",
   "execution_count": 53,
   "id": "3ced62bb",
   "metadata": {},
   "outputs": [
    {
     "name": "stdout",
     "output_type": "stream",
     "text": [
      "0.869645910767195\n"
     ]
    }
   ],
   "source": [
    "nb_model = MultinomialNB().fit(X, y)\n",
    "nb_score = cross_val_score(nb_model,\n",
    "                X,\n",
    "                y,\n",
    "                scoring=\"f1\",\n",
    "                cv=5).mean()\n",
    "print(nb_score)"
   ]
  },
  {
   "cell_type": "markdown",
   "id": "9a56dc2e",
   "metadata": {},
   "source": [
    "## Logistic Regression"
   ]
  },
  {
   "cell_type": "code",
   "execution_count": 54,
   "id": "c2e7c97d",
   "metadata": {},
   "outputs": [
    {
     "name": "stdout",
     "output_type": "stream",
     "text": [
      "0.9121820689098623\n"
     ]
    }
   ],
   "source": [
    "lr_model = LogisticRegression().fit(X, y)\n",
    "lr_score = cross_val_score(lr_model,\n",
    "                X,\n",
    "                y,\n",
    "                scoring=\"f1\",\n",
    "                cv=5).mean()\n",
    "print(lr_score)"
   ]
  },
  {
   "cell_type": "markdown",
   "id": "7948503f",
   "metadata": {},
   "source": [
    "## Support vector machine"
   ]
  },
  {
   "cell_type": "code",
   "execution_count": 55,
   "id": "1dc5bd63",
   "metadata": {},
   "outputs": [
    {
     "name": "stdout",
     "output_type": "stream",
     "text": [
      "0.8863791517796086\n"
     ]
    }
   ],
   "source": [
    "svc_model = SVC().fit(X, y)\n",
    "svc_score = cross_val_score(svc_model,\n",
    "                X,\n",
    "                y, scoring = \"f1\",\n",
    "                cv=5, n_jobs=-1).mean()\n",
    "print(svc_score)"
   ]
  },
  {
   "cell_type": "markdown",
   "id": "0300a9d4",
   "metadata": {},
   "source": [
    "## Decision Trees"
   ]
  },
  {
   "cell_type": "code",
   "execution_count": 56,
   "id": "703d8c4a",
   "metadata": {},
   "outputs": [
    {
     "name": "stdout",
     "output_type": "stream",
     "text": [
      "0.7990124585894667\n"
     ]
    }
   ],
   "source": [
    "dc_model = DecisionTreeClassifier().fit(X, y)\n",
    "dc_score = cross_val_score(dc_model,\n",
    "                X,\n",
    "                y, scoring = \"f1\",\n",
    "                cv=5, n_jobs=-1).mean()\n",
    "print(dc_score)"
   ]
  },
  {
   "cell_type": "markdown",
   "id": "77558764",
   "metadata": {},
   "source": [
    "## Random Forests"
   ]
  },
  {
   "cell_type": "code",
   "execution_count": 57,
   "id": "255d04fe",
   "metadata": {},
   "outputs": [
    {
     "name": "stdout",
     "output_type": "stream",
     "text": [
      "0.8562106854202505\n"
     ]
    }
   ],
   "source": [
    "rf_model = RandomForestClassifier().fit(X, y)\n",
    "rf_score = cross_val_score(rf_model,\n",
    "                X,\n",
    "                y, scoring = \"f1\",\n",
    "                cv=5, n_jobs=-1).mean()\n",
    "print(rf_score)"
   ]
  },
  {
   "cell_type": "code",
   "execution_count": 58,
   "id": "1b26eba8",
   "metadata": {},
   "outputs": [
    {
     "data": {
      "image/png": "[encoded data removed]",
      "text/plain": [
       "<Figure size 432x288 with 1 Axes>"
      ]
     },
     "metadata": {},
     "output_type": "display_data"
    }
   ],
   "source": [
    "scores = {\n",
    "    'Model Name' : [\"MultiNomial NB\", \"Logistic Regressor\", \"Support Vector Classifier\", \"Decision Tree Classifier\", \"Random Forest Classifier\"],\n",
    "    'Scores' : [nb_score, lr_score, svc_score, dc_score, rf_score]\n",
    "}\n",
    "\n",
    "scores_df = pd.DataFrame(scores)\n",
    "\n",
    "scores_df.plot(x='Model Name', y='Scores', kind='barh',colormap = 'plasma')\n",
    "\n",
    "plt.xlabel('Scores')\n",
    "plt.ylabel('Model Name')\n",
    "plt.title('Model Scores')\n",
    "\n",
    "plt.show()"
   ]
  },
  {
   "cell_type": "code",
   "execution_count": 59,
   "id": "3b9e6a18",
   "metadata": {},
   "outputs": [],
   "source": [
    "rf_tuned_model = RandomForestClassifier(random_state=42)"
   ]
  },
  {
   "cell_type": "code",
   "execution_count": 60,
   "id": "7753ba54",
   "metadata": {},
   "outputs": [
    {
     "name": "stdout",
     "output_type": "stream",
     "text": [
      "Fitting 5 folds for each of 24 candidates, totalling 120 fits\n"
     ]
    }
   ],
   "source": [
    "rf_params = {\"max_depth\": [8, None],\n",
    "             \"max_features\": [7, \"sqrt\"],\n",
    "             \"min_samples_split\": [2, 5, 8],\n",
    "             \"n_estimators\": [100, 200]\n",
    "             }\n",
    "\n",
    "rf_best_grid = GridSearchCV(rf_tuned_model,\n",
    "                            rf_params,\n",
    "                            cv=5,\n",
    "                            n_jobs=-1,\n",
    "                            verbose=1).fit(X, y)"
   ]
  },
  {
   "cell_type": "code",
   "execution_count": 61,
   "id": "3713117b",
   "metadata": {},
   "outputs": [
    {
     "data": {
      "text/plain": [
       "{'max_depth': None,\n",
       " 'max_features': 'sqrt',\n",
       " 'min_samples_split': 2,\n",
       " 'n_estimators': 100}"
      ]
     },
     "execution_count": 61,
     "metadata": {},
     "output_type": "execute_result"
    }
   ],
   "source": [
    "rf_best_grid.best_params_"
   ]
  },
  {
   "cell_type": "code",
   "execution_count": 62,
   "id": "48625325",
   "metadata": {},
   "outputs": [],
   "source": [
    "rf_final = rf_tuned_model.set_params(**rf_best_grid.best_params_, random_state=42).fit(X, y)"
   ]
  },
  {
   "cell_type": "code",
   "execution_count": 64,
   "id": "6843d2b0",
   "metadata": {},
   "outputs": [
    {
     "data": {
      "text/plain": [
       "0.7686753854505481"
      ]
     },
     "execution_count": 64,
     "metadata": {},
     "output_type": "execute_result"
    }
   ],
   "source": [
    "cross_val_score(rf_final, X, y, cv=5, n_jobs=-1).mean()"
   ]
  },
  {
   "cell_type": "code",
   "execution_count": 65,
   "id": "1324c206",
   "metadata": {},
   "outputs": [
    {
     "data": {
      "text/plain": [
       "array([1])"
      ]
     },
     "execution_count": 65,
     "metadata": {},
     "output_type": "execute_result"
    }
   ],
   "source": [
    "new_review = pd.Series(\"this film is beautiful\")\n",
    "\n",
    "#vectorize the our review\n",
    "new_review = CountVectorizer().fit(x).transform(new_review)\n",
    "\n",
    "# predict the sentiment of our review\n",
    "svc_model.predict(new_review)"
   ]
  },
  {
   "cell_type": "markdown",
   "id": "c791cdca",
   "metadata": {},
   "source": [
    "## The model that gave me the highest accuracy was Logistic Regression."
   ]
  }
 ],
 "metadata": {
  "kernelspec": {
   "display_name": "Python 3",
   "language": "python",
   "name": "python3"
  },
  "language_info": {
   "codemirror_mode": {
    "name": "ipython",
    "version": 3
   },
   "file_extension": ".py",
   "mimetype": "text/x-python",
   "name": "python",
   "nbconvert_exporter": "python",
   "pygments_lexer": "ipython3",
   "version": "3.8.8"
  }
 },
 "nbformat": 4,
 "nbformat_minor": 5
}
